{
 "cells": [
  {
   "cell_type": "markdown",
   "metadata": {},
   "source": [
    "# How to: Build a simple neural network with TensorFlow Eager\n",
    "\n",
    "Hello everyone! In this tutorial we are going to build a simple feedforward neural network\n",
    "using the imperative mode of TensorFlow. Hope you will find it useful! If you have any suggestions on how I can improve the code, please let me know. I am always looking to improve my programming skills :).\n",
    "\n",
    "**Version used: TensorFlow 1.5**"
   ]
  },
  {
   "cell_type": "markdown",
   "metadata": {},
   "source": [
    "## Step 1: Import useful libraries and enable eager mode\n",
    "----"
   ]
  },
  {
   "cell_type": "code",
   "execution_count": 1,
   "metadata": {
    "collapsed": true
   },
   "outputs": [],
   "source": [
    "# Suppress future warnings\n",
    "import warnings \n",
    "warnings.simplefilter(action='ignore', category=FutureWarning)\n",
    "\n",
    "# Import TensorFlow and TensorFlow Eager\n",
    "import tensorflow as tf\n",
    "import tensorflow.contrib.eager as tfe\n",
    "\n",
    "# Import function to generate toy classication problem\n",
    "from sklearn.datasets import make_moons\n",
    "import numpy as np\n",
    "\n",
    "# Import library for plots\n",
    "import matplotlib.pyplot as plt\n",
    "%matplotlib inline"
   ]
  },
  {
   "cell_type": "code",
   "execution_count": 2,
   "metadata": {
    "collapsed": true
   },
   "outputs": [],
   "source": [
    "# Enable eager mode. Once activated it cannot be reversed! Run just once.\n",
    "tfe.enable_eager_execution()"
   ]
  },
  {
   "cell_type": "markdown",
   "metadata": {},
   "source": [
    "## Step 2: Generate toy dataset for binary classification\n",
    "----\n",
    "We will generate a toy dataset, to train our network. I chose the make_moons function from sklearn. I believe it is perfect for our task, as the classes are not linearly separable, so a neural network fits perfectly here."
   ]
  },
  {
   "cell_type": "code",
   "execution_count": 3,
   "metadata": {
    "collapsed": true
   },
   "outputs": [],
   "source": [
    "# Generate toy dataset for classification\n",
    "# X is a matrix of n_samples x n_features and represents the input features\n",
    "# y is a vector with length n_samples and represents our targets\n",
    "X, y = make_moons(n_samples=100, noise=0.1, random_state=2018)"
   ]
  },
  {
   "cell_type": "markdown",
   "metadata": {},
   "source": [
    "## Step 3: Visualize generated dataset\n",
    "----"
   ]
  },
  {
   "cell_type": "code",
   "execution_count": 4,
   "metadata": {},
   "outputs": [
    {
     "data": {
      "image/png": "[encoded data removed]",
      "text/plain": [
       "<matplotlib.figure.Figure at 0x7f5cdde494a8>"
      ]
     },
     "metadata": {},
     "output_type": "display_data"
    }
   ],
   "source": [
    "plt.scatter(X[:,0], X[:,1], c=y, cmap=plt.cm.spring)\n",
    "plt.xlabel('First feature')\n",
    "plt.ylabel('Second feature')\n",
    "plt.title('Toy classification problem')\n",
    "plt.show()"
   ]
  },
  {
   "cell_type": "markdown",
   "metadata": {},
   "source": [
    "## Step 4: Build a single hidden layer neural  network (Linear -> ReLU -> Linear output)\n",
    "----\n",
    "Our first trial is a simple neural network with a single hidden layer. "
   ]
  },
  {
   "cell_type": "code",
   "execution_count": 5,
   "metadata": {
    "collapsed": true
   },
   "outputs": [],
   "source": [
    "# Transfer data from numpy arrays to tensorflow tensors\n",
    "X = tf.constant(X)\n",
    "y = tf.constant(y)"
   ]
  },
  {
   "cell_type": "code",
   "execution_count": 6,
   "metadata": {
    "collapsed": true
   },
   "outputs": [],
   "source": [
    "# Build our model. TensorFlow Eager works best when you define the models using classes.\n",
    "class simple_nn():\n",
    "    def __init__(self):\n",
    "        # Hidden layer.\n",
    "        self.dense_layer = tf.layers.Dense(10, activation=tf.nn.relu)\n",
    "        # Output layer. Unscaled log probabilities.\n",
    "        self.output_layer = tf.layers.Dense(2, activation=None)\n",
    "    \n",
    "    def predict(self, X):\n",
    "        layer_1 = self.dense_layer(X)\n",
    "        layer_2 = self.output_layer(layer_1)\n",
    "        return layer_2"
   ]
  },
  {
   "cell_type": "markdown",
   "metadata": {},
   "source": [
    "## Step 5: Define loss and optimizer\n",
    "----\n",
    "As this is a classification problem, we will be using the softmax cross-entropy loss. Normally, we would have to one-hot encode our targets. To avoid this, we will be using the sparse softmax loss, which takes as an input the raw targets. No need for further processing! HOORAY :).\n"
   ]
  },
  {
   "cell_type": "code",
   "execution_count": 59,
   "metadata": {
    "collapsed": true
   },
   "outputs": [],
   "source": [
    "# Instantiate our model\n",
    "model = simple_nn()"
   ]
  },
  {
   "cell_type": "code",
   "execution_count": 60,
   "metadata": {
    "collapsed": true
   },
   "outputs": [],
   "source": [
    "# Define the loss functon\n",
    "def loss_model(model, X, y):\n",
    "    output = model.predict(X)\n",
    "    return tf.losses.sparse_softmax_cross_entropy(y, output)"
   ]
  },
  {
   "cell_type": "code",
   "execution_count": 61,
   "metadata": {
    "collapsed": true
   },
   "outputs": [],
   "source": [
    "# Define optimizer\n",
    "optimizer = tf.train.GradientDescentOptimizer(5e-1)"
   ]
  },
  {
   "cell_type": "code",
   "execution_count": 62,
   "metadata": {
    "collapsed": true
   },
   "outputs": [],
   "source": [
    "# Compute the gradients of the variables with respect to the loss function\n",
    "grads = tfe.implicit_gradients(loss_model)"
   ]
  },
  {
   "cell_type": "markdown",
   "metadata": {},
   "source": [
    "## Step 6: Train the model with gradient descent\n",
    "----\n",
    "Use backpropagation to train the variables of our model. Feel free to play with the learning rate and the number of epochs."
   ]
  },
  {
   "cell_type": "code",
   "execution_count": 63,
   "metadata": {},
   "outputs": [
    {
     "name": "stdout",
     "output_type": "stream",
     "text": [
      "Loss at step 0: 0.587475\n",
      "Loss at step 100: 0.239937\n",
      "Loss at step 200: 0.182282\n",
      "Loss at step 300: 0.092525\n",
      "Loss at step 400: 0.051970\n"
     ]
    }
   ],
   "source": [
    "# Specify number of gradient descent steps on the entire dataset\n",
    "num_epochs = 400\n",
    "\n",
    "for i in range(num_epochs+1):\n",
    "    # One step of gradient descent\n",
    "    optimizer.apply_gradients(grads(model, X, y))\n",
    "    # Compute the loss\n",
    "    if i%100==0:\n",
    "        print('Loss at step %d: %f' %(i, loss_model(model, X, y).numpy()))"
   ]
  },
  {
   "cell_type": "markdown",
   "metadata": {},
   "source": [
    "## Step 7: Plot decision boundary\n",
    "----\n",
    "The code for visualizing the decision boundary of our model has been inspired from [this tutorial](http://scikit-learn.org/stable/auto_examples/svm/plot_iris.html#sphx-glr-auto-examples-svm-plot-iris-py)."
   ]
  },
  {
   "cell_type": "code",
   "execution_count": 64,
   "metadata": {},
   "outputs": [
    {
     "data": {
      "image/png": "[encoded data removed]",
      "text/plain": [
       "<matplotlib.figure.Figure at 0x7f5cd84b20b8>"
      ]
     },
     "metadata": {},
     "output_type": "display_data"
    }
   ],
   "source": [
    "# Create a mesh to plot in\n",
    "x_min, x_max = X[:, 0].numpy().min() - 1, X[:, 0].numpy().max() + 1\n",
    "y_min, y_max = X[:, 1].numpy().min() - 1, X[:, 1].numpy().max() + 1\n",
    "xx, yy = np.meshgrid(np.arange(x_min, x_max, 0.01),\n",
    "                     np.arange(y_min, y_max, 0.01))\n",
    "\n",
    "# Predict target for each sample xx, yy\n",
    "Z = np.argmax(model.predict(tf.constant(np.c_[xx.ravel(), yy.ravel()])).numpy(), axis=1)\n",
    "\n",
    "# Put the result into a color plot\n",
    "Z = Z.reshape(xx.shape)\n",
    "fig = plt.figure()\n",
    "plt.contourf(xx, yy, Z, cmap=plt.cm.spring, alpha=0.8)\n",
    "\n",
    "# Plot our training points\n",
    "plt.scatter(X[:, 0].numpy(), X[:, 1].numpy(), c=y, s=40, cmap=plt.cm.spring, edgecolors='k')\n",
    "plt.xlim(xx.min(), xx.max())\n",
    "plt.ylim(yy.min(), yy.max())\n",
    "plt.show()"
   ]
  },
  {
   "cell_type": "code",
   "execution_count": null,
   "metadata": {
    "collapsed": true
   },
   "outputs": [],
   "source": []
  }
 ],
 "metadata": {
  "kernelspec": {
   "display_name": "Python 3",
   "language": "python",
   "name": "python3"
  },
  "language_info": {
   "codemirror_mode": {
    "name": "ipython",
    "version": 3
   },
   "file_extension": ".py",
   "mimetype": "text/x-python",
   "name": "python",
   "nbconvert_exporter": "python",
   "pygments_lexer": "ipython3",
   "version": "3.6.2"
  }
 },
 "nbformat": 4,
 "nbformat_minor": 2
}
