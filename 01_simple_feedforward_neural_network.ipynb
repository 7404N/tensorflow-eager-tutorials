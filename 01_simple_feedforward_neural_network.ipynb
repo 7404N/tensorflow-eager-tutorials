{
 "cells": [
  {
   "cell_type": "markdown",
   "metadata": {},
   "source": [
    "# How to: Build a feedforward neural network with TensorFlow Eager\n",
    "\n",
    "Hello everyone! In this tutorial I am going to build a simple feedforward neural network using the imperative mode of TensorFlow. Hope you will find it useful!"
   ]
  },
  {
   "cell_type": "markdown",
   "metadata": {},
   "source": [
    "## Step 1: Import useful libraries and enable eager mode\n",
    "----"
   ]
  },
  {
   "cell_type": "code",
   "execution_count": 15,
   "metadata": {},
   "outputs": [],
   "source": [
    "# Suppress future warnings\n",
    "import warnings \n",
    "warnings.simplefilter(action='ignore', category=FutureWarning)\n",
    "\n",
    "# Import TensorFlow and TensorFlow Eager\n",
    "import tensorflow as tf\n",
    "import tensorflow.contrib.eager as tfe\n",
    "\n",
    "# Import function to generate toy classication problem\n",
    "from sklearn.datasets import make_classification\n",
    "\n",
    "# Import library for plots\n",
    "import matplotlib.pyplot as plt\n",
    "%matplotlib inline"
   ]
  },
  {
   "cell_type": "code",
   "execution_count": 2,
   "metadata": {},
   "outputs": [],
   "source": [
    "# Enable eager mode\n",
    "tfe.enable_eager_execution()"
   ]
  },
  {
   "cell_type": "markdown",
   "metadata": {},
   "source": [
    "## Step 2: Generate toy dataset for multi-classification\n",
    "----"
   ]
  },
  {
   "cell_type": "code",
   "execution_count": 121,
   "metadata": {},
   "outputs": [],
   "source": [
    "# Generate toy dataset for classification\n",
    "# X is a matrix of n_samples x n_features and represents the input features\n",
    "# y is a vector with length n_samples and represents our targets\n",
    "X, y = make_classification(n_samples=1000, n_features=2, n_redundant=0,\n",
    "                           random_state=1990, n_clusters_per_class=1,\n",
    "                           n_classes=3)"
   ]
  },
  {
   "cell_type": "markdown",
   "metadata": {},
   "source": [
    "## Step 3: Visualize generated dataset\n",
    "----"
   ]
  },
  {
   "cell_type": "code",
   "execution_count": 122,
   "metadata": {},
   "outputs": [
    {
     "data": {
      "image/png": "[encoded data removed]",
      "text/plain": [
       "<matplotlib.figure.Figure at 0x7f7dc4588710>"
      ]
     },
     "metadata": {},
     "output_type": "display_data"
    }
   ],
   "source": [
    "plt.scatter(X[:,0], X[:,1], c=y, cmap=plt.cm.spring)\n",
    "plt.xlabel('First feature')\n",
    "plt.ylabel('Second feature')\n",
    "plt.title('Toy classification problem')\n",
    "plt.show()"
   ]
  },
  {
   "cell_type": "markdown",
   "metadata": {},
   "source": [
    "## Step 4: Build a single hidden layer neural  network (Linear -> Batchnorm -> ReLU)\n",
    "----\n",
    "Our first trial is a simple neural network with a single hidden layer. The batchnornm layer is put before the ReLU activation."
   ]
  },
  {
   "cell_type": "code",
   "execution_count": 214,
   "metadata": {
    "collapsed": true
   },
   "outputs": [],
   "source": [
    "# Transfer data from numpy arrays to tensorflow tensors\n",
    "X = tf.constant(X)\n",
    "y = tf.constant(y)"
   ]
  },
  {
   "cell_type": "code",
   "execution_count": 215,
   "metadata": {
    "collapsed": true
   },
   "outputs": [],
   "source": [
    "def model(X):\n",
    "    # Our first hidden layer (Linear -> Batchnorm -> ReLU)\n",
    "    dense_layer = tf.layers.Dense(5, activation=None)(X)\n",
    "    batchnorm_layer = tf.layers.batch_normalization(dense_layer, training=True)\n",
    "    relu_layer = tf.nn.relu(batchnorm_layer)\n",
    "    # Output layer. Unscaled log probabilities\n",
    "    output_layer = tf.layers.Dense(3, activation=None)(relu_layer)\n",
    "    return output_layer"
   ]
  },
  {
   "cell_type": "markdown",
   "metadata": {},
   "source": [
    "## Step 5: Define loss and optimizer\n",
    "----\n",
    "As this is a multi-classification problem, we will be using the softmax cross-entropy loss. Normally, we would have to one-hot encode our targets. To avoid this, we will be using the sparse softmax loss, which takes as an input the raw targets. No need for further processing! HOORAY :smile:.\n"
   ]
  },
  {
   "cell_type": "code",
   "execution_count": 216,
   "metadata": {},
   "outputs": [],
   "source": [
    "# Define loss functon\n",
    "def loss_model(X, y):\n",
    "    output = model(X)\n",
    "    return tf.losses.sparse_softmax_cross_entropy(y, output)"
   ]
  },
  {
   "cell_type": "code",
   "execution_count": 217,
   "metadata": {
    "collapsed": true
   },
   "outputs": [],
   "source": [
    "# Define optimizer\n",
    "optimizer = tf.train.AdamOptimizer(learning_rate=3e-4)"
   ]
  },
  {
   "cell_type": "code",
   "execution_count": 218,
   "metadata": {},
   "outputs": [],
   "source": [
    "# Compute the gradients with respect to the loss function\n",
    "grad = tfe.implicit_gradients(loss_model)(X, y)"
   ]
  },
  {
   "cell_type": "markdown",
   "metadata": {},
   "source": [
    "## Step 6: Train the model with gradient descent\n",
    "----"
   ]
  },
  {
   "cell_type": "code",
   "execution_count": 219,
   "metadata": {
    "collapsed": true
   },
   "outputs": [],
   "source": [
    "num_epochs = 30"
   ]
  },
  {
   "cell_type": "code",
   "execution_count": 220,
   "metadata": {},
   "outputs": [
    {
     "name": "stdout",
     "output_type": "stream",
     "text": [
      "Loss at step 0: 0.905205\n",
      "Loss at step 1: 1.311780\n",
      "Loss at step 2: 1.925659\n",
      "Loss at step 3: 1.698206\n",
      "Loss at step 4: 1.984971\n",
      "Loss at step 5: 1.138929\n",
      "Loss at step 6: 1.558862\n",
      "Loss at step 7: 1.186339\n",
      "Loss at step 8: 1.000030\n",
      "Loss at step 9: 1.255122\n",
      "Loss at step 10: 1.307982\n",
      "Loss at step 11: 0.758942\n",
      "Loss at step 12: 1.581575\n",
      "Loss at step 13: 1.271275\n",
      "Loss at step 14: 0.917459\n",
      "Loss at step 15: 0.920722\n",
      "Loss at step 16: 1.202806\n",
      "Loss at step 17: 1.321487\n",
      "Loss at step 18: 1.281239\n",
      "Loss at step 19: 1.409526\n",
      "Loss at step 20: 0.815486\n",
      "Loss at step 21: 1.337142\n",
      "Loss at step 22: 1.357809\n",
      "Loss at step 23: 1.115037\n",
      "Loss at step 24: 1.309586\n",
      "Loss at step 25: 1.694880\n",
      "Loss at step 26: 0.741526\n",
      "Loss at step 27: 1.209865\n",
      "Loss at step 28: 1.878530\n",
      "Loss at step 29: 1.097534\n"
     ]
    }
   ],
   "source": [
    "for i in range(num_epochs):\n",
    "    # One step of gradient descent\n",
    "    optimizer.apply_gradients(grad)\n",
    "    # Compute the loss\n",
    "    print('Loss at step %d: %f' %(i, loss_model(X, y).numpy()))"
   ]
  },
  {
   "cell_type": "code",
   "execution_count": null,
   "metadata": {
    "collapsed": true
   },
   "outputs": [],
   "source": []
  }
 ],
 "metadata": {
  "kernelspec": {
   "display_name": "Python 3",
   "language": "python",
   "name": "python3"
  },
  "language_info": {
   "codemirror_mode": {
    "name": "ipython",
    "version": 3
   },
   "file_extension": ".py",
   "mimetype": "text/x-python",
   "name": "python",
   "nbconvert_exporter": "python",
   "pygments_lexer": "ipython3",
   "version": "3.6.2"
  }
 },
 "nbformat": 4,
 "nbformat_minor": 2
}
