{
 "cells": [
  {
   "cell_type": "markdown",
   "metadata": {},
   "source": [
    "# How to transfer raw image data to TFRecords\n",
    "----\n",
    "\n",
    "Hello everyone! This tutorial, like the previous one, is focused on automatizing the data input pipeline.\n",
    "\n",
    "Most of the time, our datasets are too big too read in memory so we have to prepare a pipeline for reading the data in batches from hard-disk. I always process my raw data (text, images, tabular) to TFRecords as it makes my life so much easier hehe :).\n",
    "\n",
    "This tutorial will cover the following parts:\n",
    "* create a function that reads raw images and transfers it to TFRecords.\n",
    "* create a function that parses the TFRecords to TF tensors.\n",
    "\n",
    "So without any further due, let's get started."
   ]
  },
  {
   "cell_type": "markdown",
   "metadata": {},
   "source": [
    "### Transfer raw images to TFRecords\n",
    "----\n",
    "\n",
    "For this task, we will be using a few images from the FER2013 dataset, that you can find in the datasets/dummy_images folder."
   ]
  },
  {
   "cell_type": "code",
   "execution_count": 4,
   "metadata": {},
   "outputs": [],
   "source": [
    "# Import TensorFlow and TensorFlow Eager\n",
    "import tensorflow as tf\n",
    "import tensorflow.contrib.eager as tfe\n",
    "\n",
    "import glob"
   ]
  },
  {
   "cell_type": "code",
   "execution_count": 5,
   "metadata": {},
   "outputs": [],
   "source": [
    "# Enable eager mode. Once activated it cannot be reversed! Run just once.\n",
    "tfe.enable_eager_execution()"
   ]
  },
  {
   "cell_type": "code",
   "execution_count": 38,
   "metadata": {},
   "outputs": [],
   "source": [
    "def img2tfrecords(path_data='datasets/dummy_images/', image_format='jpg'):\n",
    "    '''\n",
    "    '''\n",
    "    def _int64_feature(value):\n",
    "        return tf.train.Feature(int64_list=tf.train.Int64List(value=[value]))\n",
    "    \n",
    "    def _bytes_feature(value):\n",
    "        return tf.train.Feature(bytes_list=tf.train.BytesList(value=[value]))\n",
    "    \n",
    "    filenames = glob.glob(path_data + '*' + image_format)\n",
    "    writer = tf.python_io.TFRecordWriter(path_data + 'dummy.tfrecords')\n",
    "    \n",
    "    \n",
    "    for filename in filenames:\n",
    "        with tf.gfile.FastGFile(filename, 'rb') as f:\n",
    "            img = f.read()\n",
    "        label = int(filename.split('_')[-1].split('.')[0])\n",
    "        example = tf.train.Example(features=tf.train.Features(feature={\n",
    "                                  'label': _int64_feature(label),\n",
    "                                  'image': _bytes_feature(img)}))\n",
    "    \n",
    "        writer.write(example.SerializeToString())"
   ]
  }
 ],
 "metadata": {
  "kernelspec": {
   "display_name": "Python 3",
   "language": "python",
   "name": "python3"
  },
  "language_info": {
   "codemirror_mode": {
    "name": "ipython",
    "version": 3
   },
   "file_extension": ".py",
   "mimetype": "text/x-python",
   "name": "python",
   "nbconvert_exporter": "python",
   "pygments_lexer": "ipython3",
   "version": "3.6.4"
  }
 },
 "nbformat": 4,
 "nbformat_minor": 2
}
