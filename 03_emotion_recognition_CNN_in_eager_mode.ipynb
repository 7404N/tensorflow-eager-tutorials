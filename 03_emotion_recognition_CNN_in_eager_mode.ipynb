{
 "cells": [
  {
   "cell_type": "markdown",
   "metadata": {},
   "source": [
    "# Building a CNN for emotion recognition in Eager mode\n",
    "----\n",
    "\n",
    "One of my favourite parts about deep learning is that I can work on problems where I can test the neural networks on myself. The most entertaining neural network that I've built so far is a CNN for emotion recognition. I've managed to pass my webcam video through the network and got predictions of my emotions ~real-time (using a GTX-1070). Quite addictive hehe :)!\n",
    "\n",
    "So, if you want to build your own neural network for emotion recognition, using TensorFlow Eager, keep on reading. \n",
    "\n",
    "### There are 3 main steps to do in this tutorial.\n",
    "* *Download the emotion recognition dataset from Kaggle*\n",
    "* *Create a CNN neural network with TensorFlow Eager*\n",
    "* *Test the network on new pictures, or even better, with webcam footage of yourself.*"
   ]
  },
  {
   "cell_type": "code",
   "execution_count": null,
   "metadata": {
    "collapsed": true
   },
   "outputs": [],
   "source": []
  }
 ],
 "metadata": {
  "kernelspec": {
   "display_name": "Python 3",
   "language": "python",
   "name": "python3"
  },
  "language_info": {
   "codemirror_mode": {
    "name": "ipython",
    "version": 3
   },
   "file_extension": ".py",
   "mimetype": "text/x-python",
   "name": "python",
   "nbconvert_exporter": "python",
   "pygments_lexer": "ipython3",
   "version": "3.6.2"
  }
 },
 "nbformat": 4,
 "nbformat_minor": 2
}
