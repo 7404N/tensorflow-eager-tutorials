{
 "cells": [
  {
   "cell_type": "markdown",
   "metadata": {},
   "source": [
    "# Using metrics to assess the performance of your neural network\n",
    "----\n",
    "\n",
    "Hello everyone! In this tutorial, we are going to learn how to use various metrics in order to assess the performance of our neural networks. I have chosen to work on three cases:\n",
    "* *multi-classification*\n",
    "* *imbalanced binary classification*\n",
    "* *regression*\n",
    "\n",
    "I believe these cases are diverse enough to help you in any machine learning project you will encounter further. \n",
    "If you would like me to add any extra metrics that are not encountered below, please let me know and I will do my best to add them later on. So, let's get started :)!\n",
    "\n",
    "** TensorFlow version used - 1.5 **\n"
   ]
  },
  {
   "cell_type": "markdown",
   "metadata": {},
   "source": [
    "## Import useful libraries and enable eager mode\n",
    "----"
   ]
  },
  {
   "cell_type": "code",
   "execution_count": 1,
   "metadata": {
    "collapsed": true
   },
   "outputs": [],
   "source": [
    "# Suppress future warnings\n",
    "import warnings \n",
    "warnings.simplefilter(action='ignore', category=FutureWarning)\n",
    "\n",
    "# Import TensorFlow and TensorFlow Eager\n",
    "import tensorflow as tf\n",
    "import tensorflow.contrib.eager as tfe\n",
    "\n",
    "# Import functions to generate toy classication problems\n",
    "from sklearn.datasets import load_wine\n",
    "\n",
    "# Import numpy for data preprocessing\n",
    "import numpy as np\n",
    "\n",
    "# Import library for plots\n",
    "import matplotlib.pyplot as plt\n",
    "%matplotlib inline\n",
    "\n",
    "# Import PCA for dimensionality reduction\n",
    "from sklearn.decomposition import PCA"
   ]
  },
  {
   "cell_type": "code",
   "execution_count": 2,
   "metadata": {
    "collapsed": true
   },
   "outputs": [],
   "source": [
    "# Enable eager mode. Once activated it cannot be reversed! Run just once.\n",
    "tfe.enable_eager_execution()"
   ]
  },
  {
   "cell_type": "markdown",
   "metadata": {},
   "source": [
    "## Part I: Dataset for multi-classification\n",
    "----"
   ]
  },
  {
   "cell_type": "code",
   "execution_count": 3,
   "metadata": {
    "collapsed": true
   },
   "outputs": [],
   "source": [
    "wine_data = load_wine()"
   ]
  },
  {
   "cell_type": "code",
   "execution_count": 4,
   "metadata": {},
   "outputs": [
    {
     "name": "stdout",
     "output_type": "stream",
     "text": [
      "Type of data in the wine_data dictionary:  ['data', 'target', 'target_names', 'DESCR', 'feature_names']\n"
     ]
    }
   ],
   "source": [
    "print('Type of data in the wine_data dictionary: ', list(wine_data.keys()))"
   ]
  },
  {
   "cell_type": "code",
   "execution_count": 5,
   "metadata": {},
   "outputs": [
    {
     "name": "stdout",
     "output_type": "stream",
     "text": [
      "Number of classes:  3\n"
     ]
    }
   ],
   "source": [
    "print('Number of classes: ', len(np.unique(wine_data.target)))"
   ]
  },
  {
   "cell_type": "code",
   "execution_count": 6,
   "metadata": {},
   "outputs": [
    {
     "name": "stdout",
     "output_type": "stream",
     "text": [
      "Distribution of our targets:  [59 71 48]\n"
     ]
    }
   ],
   "source": [
    "print('Distribution of our targets: ', np.unique(wine_data.target, return_counts=True)[1])"
   ]
  },
  {
   "cell_type": "code",
   "execution_count": 7,
   "metadata": {},
   "outputs": [
    {
     "name": "stdout",
     "output_type": "stream",
     "text": [
      "Number of features in the dataset:  13\n"
     ]
    }
   ],
   "source": [
    "print('Number of features in the dataset: ', wine_data.data.shape[1])"
   ]
  },
  {
   "cell_type": "markdown",
   "metadata": {},
   "source": [
    "### Standardize features\n",
    "----\n",
    "The scale of each feature varies a lot as you can see in the cell below. In order to speed up the training, we will normalize each feature to have zero mean and unit standard deviation. This process is called standardization and it is very helpful in the convergence of the neural network. "
   ]
  },
  {
   "cell_type": "code",
   "execution_count": 8,
   "metadata": {},
   "outputs": [
    {
     "name": "stdout",
     "output_type": "stream",
     "text": [
      "Mean of each feature:  [1.30006180e+01 2.33634831e+00 2.36651685e+00 1.94949438e+01\n",
      " 9.97415730e+01 2.29511236e+00 2.02926966e+00 3.61853933e-01\n",
      " 1.59089888e+00 5.05808988e+00 9.57449438e-01 2.61168539e+00\n",
      " 7.46893258e+02]\n"
     ]
    }
   ],
   "source": [
    "print('Mean of each feature: ', np.mean(wine_data.data, axis=0))"
   ]
  },
  {
   "cell_type": "code",
   "execution_count": 9,
   "metadata": {
    "collapsed": true
   },
   "outputs": [],
   "source": [
    "# Standardize dataset\n",
    "wine_data.data = (wine_data.data - np.mean(wine_data.data, axis=0))/np.std(wine_data.data, axis=0)"
   ]
  },
  {
   "cell_type": "code",
   "execution_count": 10,
   "metadata": {},
   "outputs": [
    {
     "name": "stdout",
     "output_type": "stream",
     "text": [
      "Mean of each feature after standardization:  [ 7.84141790e-15  2.44498554e-16 -4.05917497e-15 -7.11041712e-17\n",
      " -2.49488320e-17 -1.95536471e-16  9.44313292e-16 -4.17892936e-16\n",
      " -1.54059038e-15 -4.12903170e-16  1.39838203e-15  2.12688793e-15\n",
      " -6.98567296e-17]\n"
     ]
    }
   ],
   "source": [
    "print('Mean of each feature after standardization: ', np.mean(wine_data.data, axis=0))"
   ]
  },
  {
   "cell_type": "code",
   "execution_count": 11,
   "metadata": {},
   "outputs": [
    {
     "name": "stdout",
     "output_type": "stream",
     "text": [
      "Standard deviation of each feature after standardization:  [1. 1. 1. 1. 1. 1. 1. 1. 1. 1. 1. 1. 1.]\n"
     ]
    }
   ],
   "source": [
    "print('Standard deviation of each feature after standardization: ', np.std(wine_data.data, axis=0))"
   ]
  },
  {
   "cell_type": "markdown",
   "metadata": {},
   "source": [
    "###  Data visualization. Use PCA to reduce the dimensionality to 2D.\n",
    "----\n",
    "We will use PCA, only for visualization purposes. We will be training our neural network using all 13 features. \n",
    "\n",
    "Let's have a look at how these 3 classes are represented in the 2D space."
   ]
  },
  {
   "cell_type": "code",
   "execution_count": 12,
   "metadata": {
    "collapsed": true
   },
   "outputs": [],
   "source": [
    "X_pca = PCA(n_components=2, random_state=2018).fit_transform(wine_data.data)"
   ]
  },
  {
   "cell_type": "code",
   "execution_count": 13,
   "metadata": {},
   "outputs": [
    {
     "data": {
      "image/png": "[encoded data removed]",
      "text/plain": [
       "<matplotlib.figure.Figure at 0x7f0b17aa6dd8>"
      ]
     },
     "metadata": {},
     "output_type": "display_data"
    }
   ],
   "source": [
    "plt.scatter(X_pca[:,0], X_pca[:,1], c=wine_data.target, cmap=plt.cm.spring)\n",
    "plt.xlabel('First PCA component', fontsize=15)\n",
    "plt.ylabel('Second PCA component', fontsize=15)\n",
    "plt.title('Multi-classification problem', fontsize=15)\n",
    "plt.show()"
   ]
  },
  {
   "cell_type": "markdown",
   "metadata": {},
   "source": [
    "Okay, so it appears that the classes are easily separable. By the way, I actually tried using PCA before standardizing the features and the pink and yellow classes were overlapping. By standardizing the features before reducing the dimensionality we managed to obtain a much clear boundary between them. "
   ]
  },
  {
   "cell_type": "markdown",
   "metadata": {},
   "source": [
    "### Let's build a two-layers neural network using the TensorFlow Eager API\n",
    "----\n",
    "\n",
    "As you might have noticed, the most convenient way to build models using TensorFlow Eager is with classes. I think that using classes for your models makes it much easier to organize and adding new components to it. You simply define the layers that you're going to use during initialization and use them later on at the predict stage. It makes it easier to read the architecture of the model during the predict stage."
   ]
  },
  {
   "cell_type": "code",
   "execution_count": 71,
   "metadata": {
    "collapsed": true
   },
   "outputs": [],
   "source": [
    "class two_layer_nn(tfe.Network):\n",
    "    def __init__(self, num_classes=3):\n",
    "        # First hidden layer\n",
    "        self.dense_1 = tf.layers.Dense(20, activation=tf.nn.relu)\n",
    "        # Second hidden layer\n",
    "        self.dense_2 = tf.layers.Dense(10, activation=tf.nn.relu)\n",
    "        # Output layer. Unscaled log probabilities\n",
    "        self.dense_out = tf.layers.Dense(num_classes, activation=None)\n",
    "    \n",
    "    def predict(self, X):\n",
    "        layer_1 = self.dense_1(X)\n",
    "        layer_2 = self.dense_2(layer_1)\n",
    "        logits = self.dense_out(layer_2)\n",
    "        return logits"
   ]
  },
  {
   "cell_type": "markdown",
   "metadata": {},
   "source": [
    "### Define loss function, optimizer and gradients function\n",
    "----\n",
    "** Important!** - When using the function 'tfe.implicit_gradients', it is important to run the forward pass of the model in the 'loss_fn' function. Otherwise, the function will not find any variable to compute the gradient for."
   ]
  },
  {
   "cell_type": "code",
   "execution_count": 72,
   "metadata": {
    "collapsed": true
   },
   "outputs": [],
   "source": [
    "# Initialize model \n",
    "model = two_layer_nn(num_classes=3)"
   ]
  },
  {
   "cell_type": "code",
   "execution_count": 73,
   "metadata": {
    "collapsed": true
   },
   "outputs": [],
   "source": [
    "# Define loss function\n",
    "def loss_fn(model, X, y):\n",
    "    logits = model.predict(X)\n",
    "    return tf.losses.sparse_softmax_cross_entropy(y, logits)"
   ]
  },
  {
   "cell_type": "code",
   "execution_count": 74,
   "metadata": {
    "collapsed": true
   },
   "outputs": [],
   "source": [
    "# Define optimizer\n",
    "optimizer = tf.train.GradientDescentOptimizer(5e-1)"
   ]
  },
  {
   "cell_type": "code",
   "execution_count": 75,
   "metadata": {
    "collapsed": true
   },
   "outputs": [],
   "source": [
    "# Function to compute the gradients of variables with respect to the loss function\n",
    "grads_fn = tfe.implicit_gradients(loss_fn)"
   ]
  },
  {
   "cell_type": "markdown",
   "metadata": {},
   "source": [
    "### Accuracy metric\n",
    "----\n",
    "To assess the performance of our model using the accuracy metric, we will be using the 'tfe.metrics.Accuracy' class. This metric is really useful when training a model in batches, as it computes the mean accuracy across batches each time it is called. As we train our model with the entire dataset at each step, we will be resetting this metric, as we do not want it to track the running mean."
   ]
  },
  {
   "cell_type": "code",
   "execution_count": 76,
   "metadata": {
    "collapsed": true
   },
   "outputs": [],
   "source": [
    "accuracy = tfe.metrics.Accuracy()"
   ]
  },
  {
   "cell_type": "code",
   "execution_count": 77,
   "metadata": {
    "collapsed": true
   },
   "outputs": [],
   "source": [
    "# Create input features and targets dataset. Transfer data from numpy to tensors.\n",
    "X = tf.constant(wine_data.data)\n",
    "y = tf.constant(wine_data.target)"
   ]
  },
  {
   "cell_type": "code",
   "execution_count": 78,
   "metadata": {},
   "outputs": [],
   "source": [
    "# Specify number of epochs\n",
    "num_epochs = 5\n",
    "\n",
    "# Create empty list to store the accuracy of each epoch\n",
    "hist_accuracy = []\n",
    "\n",
    "for i in range(num_epochs):\n",
    "    # One step of gradient descent\n",
    "    optimizer.apply_gradients(grads_fn(model, X, y))\n",
    "    # Predict targets after taking a step of gradient descent\n",
    "    logits = model.predict(X)\n",
    "    preds = tf.argmax(logits, axis=1)\n",
    "    # Compute the accuracy\n",
    "    accuracy(preds, y)\n",
    "    # Get the actual result and add it to our list\n",
    "    hist_accuracy.append(accuracy.result())\n",
    "    # Reset accuracy value (we don't want to track the running mean accuracy)\n",
    "    accuracy.init_variables()\n",
    "    "
   ]
  },
  {
   "cell_type": "code",
   "execution_count": 79,
   "metadata": {},
   "outputs": [
    {
     "data": {
      "image/png": "[encoded data removed]",
      "text/plain": [
       "<matplotlib.figure.Figure at 0x7f0b08576748>"
      ]
     },
     "metadata": {},
     "output_type": "display_data"
    }
   ],
   "source": [
    "plt.plot(range(num_epochs), hist_accuracy);\n",
    "plt.xlabel('Epoch number', fontsize=15);\n",
    "plt.ylabel('Accuracy', fontsize=15);\n",
    "plt.title('Training accuracy history', fontsize=15);"
   ]
  },
  {
   "cell_type": "markdown",
   "metadata": {},
   "source": [
    "### Confusion matrix\n",
    "----\n",
    "Visualizing the confusion matrix after you finished training the algorithm is a great way to give you global overview on the performance of your network. TensorFlow has a built-in function to compute the confusion matrix and fortunately it is compatible with eager mode. So let's visualize the confusion matrix of this dataset."
   ]
  },
  {
   "cell_type": "code",
   "execution_count": 80,
   "metadata": {
    "collapsed": true
   },
   "outputs": [],
   "source": [
    "# Get the predictions on the entire dataset\n",
    "logits = model.predict(X)\n",
    "preds = tf.argmax(logits, axis=1)"
   ]
  },
  {
   "cell_type": "code",
   "execution_count": 86,
   "metadata": {},
   "outputs": [
    {
     "name": "stdout",
     "output_type": "stream",
     "text": [
      "Confusion matrix: \n",
      " [[57  2  0]\n",
      " [ 4 66  1]\n",
      " [ 0 25 23]]\n"
     ]
    }
   ],
   "source": [
    "# Print confusion matrix\n",
    "conf_matrix = tf.confusion_matrix(y, preds, num_classes=3)\n",
    "print('Confusion matrix: \\n', conf_matrix.numpy())"
   ]
  },
  {
   "cell_type": "markdown",
   "metadata": {},
   "source": [
    "The diagonal matrix shows the true positives whilst the lower and upper bound of the matrix shows the false positives."
   ]
  },
  {
   "cell_type": "markdown",
   "metadata": {},
   "source": [
    "### Precision score\n",
    "----\n",
    "Most of the metrics available in TensorFlow belong to tf.metrics which unfortunately isn't compatible with eager mode at the moment. No worries though, the confusion matrix computed above makes it extremely easy to compute the mean average precision. I will implement a function below, which computes it automatically for you. You can also specify the weights of each class. For example, maybe the precision for class 2 is more important for you for some reason."
   ]
  },
  {
   "cell_type": "code",
   "execution_count": 87,
   "metadata": {
    "collapsed": true
   },
   "outputs": [],
   "source": [
    "def precision(labels, predictions, weights=None):\n",
    "    conf_matrix = tf.confusion_matrix(labels, predictions, num_classes=3)\n",
    "    tp_and_fp = tf.reduce_sum(conf_matrix, axis=0)\n",
    "    tp = tf.diag_part(conf_matrix)\n",
    "    precision_scores = tp/(tp_and_fp)\n",
    "    if weights:\n",
    "        precision_score = tf.multiply(precision_scores, weights)/tf.reduce_sum(weights)\n",
    "    else:\n",
    "        precision_score = tf.reduce_mean(precision_scores)        \n",
    "    return precision_score"
   ]
  },
  {
   "cell_type": "code",
   "execution_count": 88,
   "metadata": {},
   "outputs": [
    {
     "name": "stdout",
     "output_type": "stream",
     "text": [
      "Average precision:  0.8674789940654564\n"
     ]
    }
   ],
   "source": [
    "precision_score = precision(y, preds, weights=None)\n",
    "print('Average precision: ', precision_score.numpy())"
   ]
  },
  {
   "cell_type": "markdown",
   "metadata": {},
   "source": [
    "## Recall score\n",
    "----\n",
    "The average recall can be computed very similarly with the precision. Instead of summing the columns, we are going to sum the rows in order to get the total number of true positives and false negatives."
   ]
  },
  {
   "cell_type": "code",
   "execution_count": 94,
   "metadata": {
    "collapsed": true
   },
   "outputs": [],
   "source": [
    "def recall(labels, predictions, weights=None):\n",
    "    conf_matrix = tf.confusion_matrix(labels, predictions, num_classes=3)\n",
    "    tp_and_fn = tf.reduce_sum(conf_matrix, axis=1)\n",
    "    tp = tf.diag_part(conf_matrix)\n",
    "    recall_scores = tp/(tp_and_fn)\n",
    "    if weights:\n",
    "        recall_score = tf.multiply(recall_scores, weights)/tf.reduce_sum(weights)\n",
    "    else:\n",
    "        recall_score = tf.reduce_mean(recall_scores)        \n",
    "    return recall_score"
   ]
  },
  {
   "cell_type": "code",
   "execution_count": null,
   "metadata": {
    "collapsed": true
   },
   "outputs": [],
   "source": [
    "recall_score = precision(y, preds, weights=None)\n",
    "print('Average precision: ', precision_score.numpy())"
   ]
  }
 ],
 "metadata": {
  "kernelspec": {
   "display_name": "Python 3",
   "language": "python",
   "name": "python3"
  },
  "language_info": {
   "codemirror_mode": {
    "name": "ipython",
    "version": 3
   },
   "file_extension": ".py",
   "mimetype": "text/x-python",
   "name": "python",
   "nbconvert_exporter": "python",
   "pygments_lexer": "ipython3",
   "version": "3.6.2"
  }
 },
 "nbformat": 4,
 "nbformat_minor": 2
}
