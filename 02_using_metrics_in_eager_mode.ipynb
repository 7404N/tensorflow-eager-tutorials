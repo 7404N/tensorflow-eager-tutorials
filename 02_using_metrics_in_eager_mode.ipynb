{
 "cells": [
  {
   "cell_type": "markdown",
   "metadata": {},
   "source": [
    "# Using metrics in Eager mode, to assess the performance of your neural network\n",
    "----\n",
    "\n",
    "Hello everyone! In this tutorial, we are going to learn how to use various metrics in order to assess the performance of our neural networks when using the Eager mode in TensorFlow. The *tf.metrics* API is unfortunately incompatible with Eager mode therefore I have constructed several functions that can help you assess the performance of your network whilst still enjoying the awesomeness of building your networks using an imperative mode. \n",
    "\n",
    "I have chosen to work on three cases:\n",
    "* **Multi-Classification** \n",
    ">For this task, we are going to use the __*accuracy*__, __*confusion matrix*__ and __*average precision*__ and __*recall*__ in order to evaluate the performance of the our model.\n",
    "* **Imbalanced Binary Classification**\n",
    ">When we are dealing with an imbalanced dataset, the accuracy of a model is not a reliable metric. Thus, we will use the __*ROC-AUC*__ score, which seems to be a more appropriate metric for imbalanced problems.\n",
    "* **Regression**\n",
    "> To assess the performance of our regression model, we will be using the $\\boldsymbol{R^2}$ score (coefficient of determination).\n",
    "\n",
    "I believe these cases are diverse enough to help you in any machine learning project you will encounter further. \n",
    "If you would like me to add any extra metrics that are not encountered below, please let me know and I will do my best to add them later on. So, let's get started :)!\n",
    "\n",
    "** TensorFlow version used - 1.5 **\n"
   ]
  },
  {
   "cell_type": "markdown",
   "metadata": {},
   "source": [
    "## Import useful libraries and enable eager mode\n",
    "----"
   ]
  },
  {
   "cell_type": "code",
   "execution_count": 1,
   "metadata": {
    "collapsed": true
   },
   "outputs": [],
   "source": [
    "# Suppress future warnings\n",
    "import warnings \n",
    "warnings.simplefilter(action='ignore', category=FutureWarning)\n",
    "\n",
    "# Import TensorFlow and TensorFlow Eager\n",
    "import tensorflow as tf\n",
    "import tensorflow.contrib.eager as tfe\n",
    "\n",
    "# Import functions to generate toy classication problems\n",
    "from sklearn.datasets import load_wine\n",
    "from sklearn.datasets import make_classification\n",
    "from sklearn.datasets import make_regression\n",
    "\n",
    "# Import numpy for data preprocessing\n",
    "import numpy as np\n",
    "\n",
    "# Import library for plots\n",
    "import matplotlib.pyplot as plt\n",
    "%matplotlib inline\n",
    "\n",
    "# Import PCA for dimensionality reduction\n",
    "from sklearn.decomposition import PCA"
   ]
  },
  {
   "cell_type": "code",
   "execution_count": 2,
   "metadata": {},
   "outputs": [],
   "source": [
    "# Enable eager mode. Once activated it cannot be reversed! Run just once.\n",
    "tfe.enable_eager_execution()"
   ]
  },
  {
   "cell_type": "markdown",
   "metadata": {},
   "source": [
    "## Part I: Dataset for multi-classification\n",
    "----"
   ]
  },
  {
   "cell_type": "code",
   "execution_count": 3,
   "metadata": {
    "collapsed": true
   },
   "outputs": [],
   "source": [
    "wine_data = load_wine()"
   ]
  },
  {
   "cell_type": "code",
   "execution_count": 4,
   "metadata": {},
   "outputs": [
    {
     "name": "stdout",
     "output_type": "stream",
     "text": [
      "Type of data in the wine_data dictionary:  ['data', 'target', 'target_names', 'DESCR', 'feature_names']\n"
     ]
    }
   ],
   "source": [
    "print('Type of data in the wine_data dictionary: ', list(wine_data.keys()))"
   ]
  },
  {
   "cell_type": "code",
   "execution_count": 5,
   "metadata": {},
   "outputs": [
    {
     "name": "stdout",
     "output_type": "stream",
     "text": [
      "Number of classes:  3\n"
     ]
    }
   ],
   "source": [
    "print('Number of classes: ', len(np.unique(wine_data.target)))"
   ]
  },
  {
   "cell_type": "code",
   "execution_count": 6,
   "metadata": {},
   "outputs": [
    {
     "name": "stdout",
     "output_type": "stream",
     "text": [
      "Distribution of our targets:  [59 71 48]\n"
     ]
    }
   ],
   "source": [
    "print('Distribution of our targets: ', np.unique(wine_data.target, return_counts=True)[1])"
   ]
  },
  {
   "cell_type": "code",
   "execution_count": 7,
   "metadata": {},
   "outputs": [
    {
     "name": "stdout",
     "output_type": "stream",
     "text": [
      "Number of features in the dataset:  13\n"
     ]
    }
   ],
   "source": [
    "print('Number of features in the dataset: ', wine_data.data.shape[1])"
   ]
  },
  {
   "cell_type": "markdown",
   "metadata": {},
   "source": [
    "### Standardize features\n",
    "----\n",
    "The scale of each feature varies a lot as you can see in the cell below. In order to speed up the training, we will normalize each feature to have zero mean and unit standard deviation. This process is called standardization and it is very helpful in the convergence of the neural network. "
   ]
  },
  {
   "cell_type": "code",
   "execution_count": 8,
   "metadata": {
    "collapsed": true
   },
   "outputs": [],
   "source": [
    "# Standardize dataset\n",
    "wine_data.data = (wine_data.data - np.mean(wine_data.data, axis=0))/np.std(wine_data.data, axis=0)"
   ]
  },
  {
   "cell_type": "code",
   "execution_count": 9,
   "metadata": {},
   "outputs": [
    {
     "name": "stdout",
     "output_type": "stream",
     "text": [
      "Standard deviation of each feature after standardization:  [1. 1. 1. 1. 1. 1. 1. 1. 1. 1. 1. 1. 1.]\n"
     ]
    }
   ],
   "source": [
    "print('Standard deviation of each feature after standardization: ', np.std(wine_data.data, axis=0))"
   ]
  },
  {
   "cell_type": "markdown",
   "metadata": {},
   "source": [
    "###  Data visualization. Use PCA to reduce the dimensionality to 2D.\n",
    "----\n",
    "We will use PCA, only for visualization purposes. We will be training our neural network using all 13 features. \n",
    "\n",
    "Let's have a look at how these 3 classes are represented in the 2D space."
   ]
  },
  {
   "cell_type": "code",
   "execution_count": 10,
   "metadata": {
    "collapsed": true
   },
   "outputs": [],
   "source": [
    "X_pca = PCA(n_components=2, random_state=2018).fit_transform(wine_data.data)"
   ]
  },
  {
   "cell_type": "code",
   "execution_count": 11,
   "metadata": {},
   "outputs": [
    {
     "data": {
      "image/png": "[encoded data removed]",
      "text/plain": [
       "<matplotlib.figure.Figure at 0x7fbc7e91bdd8>"
      ]
     },
     "metadata": {},
     "output_type": "display_data"
    }
   ],
   "source": [
    "plt.scatter(X_pca[:,0], X_pca[:,1], c=wine_data.target, cmap=plt.cm.spring)\n",
    "plt.xlabel('First PCA component', fontsize=15)\n",
    "plt.ylabel('Second PCA component', fontsize=15)\n",
    "plt.title('Multi-classification problem', fontsize=15)\n",
    "plt.show()"
   ]
  },
  {
   "cell_type": "markdown",
   "metadata": {},
   "source": [
    "Okay, so it appears that the classes are easily separable. By the way, I actually tried using PCA before standardizing the features and the pink and yellow classes were overlapping. By standardizing the features before reducing the dimensionality we managed to obtain a much clear boundary between them. "
   ]
  },
  {
   "cell_type": "markdown",
   "metadata": {},
   "source": [
    "### Let's build a two-layers neural network using the TensorFlow Eager API\n",
    "----\n",
    "\n",
    "As you might have noticed, the most convenient way to build models using TensorFlow Eager is with classes. I think that using classes for your models makes it much easier to organize and adding new components to it. You simply define the layers that you're going to use during initialization and use them later on at the predict stage. It makes it easier to read the architecture of the model during the predict stage."
   ]
  },
  {
   "cell_type": "code",
   "execution_count": 12,
   "metadata": {
    "collapsed": true
   },
   "outputs": [],
   "source": [
    "class two_layer_nn(tfe.Network):\n",
    "    def __init__(self, output_size=3):\n",
    "        # First hidden layer\n",
    "        self.dense_1 = tf.layers.Dense(20, activation=tf.nn.relu)\n",
    "        # Second hidden layer\n",
    "        self.dense_2 = tf.layers.Dense(10, activation=tf.nn.relu)\n",
    "        # Output layer. Unscaled log probabilities\n",
    "        self.dense_out = tf.layers.Dense(output_size, activation=None)\n",
    "    \n",
    "    def predict(self, X):\n",
    "        layer_1 = self.dense_1(X)\n",
    "        layer_2 = self.dense_2(layer_1)\n",
    "        logits = self.dense_out(layer_2)\n",
    "        return logits"
   ]
  },
  {
   "cell_type": "markdown",
   "metadata": {},
   "source": [
    "### Define loss function, optimizer and gradients function\n",
    "----\n",
    "** Important!** - When using the function 'tfe.implicit_gradients', it is important to run the forward pass of the model in the 'loss_fn' function. Otherwise, the function will not find any variable to compute the gradient for."
   ]
  },
  {
   "cell_type": "code",
   "execution_count": 13,
   "metadata": {
    "collapsed": true
   },
   "outputs": [],
   "source": [
    "# Initialize model \n",
    "model = two_layer_nn(output_size=3)"
   ]
  },
  {
   "cell_type": "code",
   "execution_count": 14,
   "metadata": {
    "collapsed": true
   },
   "outputs": [],
   "source": [
    "# Define loss function\n",
    "def loss_fn(model, X, y):\n",
    "    logits = model.predict(X)\n",
    "    return tf.losses.sparse_softmax_cross_entropy(y, logits)"
   ]
  },
  {
   "cell_type": "code",
   "execution_count": 15,
   "metadata": {
    "collapsed": true
   },
   "outputs": [],
   "source": [
    "# Define optimizer\n",
    "optimizer = tf.train.GradientDescentOptimizer(5e-1)"
   ]
  },
  {
   "cell_type": "code",
   "execution_count": 16,
   "metadata": {
    "collapsed": true
   },
   "outputs": [],
   "source": [
    "# Function to compute the gradients of variables with respect to the loss function\n",
    "grads_fn = tfe.implicit_gradients(loss_fn)"
   ]
  },
  {
   "cell_type": "markdown",
   "metadata": {},
   "source": [
    "### Accuracy metric\n",
    "----\n",
    "To assess the performance of our model using the accuracy metric, we will be using the 'tfe.metrics.Accuracy' class. This metric is really useful when training a model in batches, as it computes the mean accuracy across batches each time it is called. As we train our model with the entire dataset at each step, we will be resetting this metric, as we do not want it to track the running mean."
   ]
  },
  {
   "cell_type": "code",
   "execution_count": 17,
   "metadata": {
    "collapsed": true
   },
   "outputs": [],
   "source": [
    "accuracy = tfe.metrics.Accuracy()"
   ]
  },
  {
   "cell_type": "code",
   "execution_count": 18,
   "metadata": {
    "collapsed": true
   },
   "outputs": [],
   "source": [
    "# Create input features and targets dataset. Transfer data from numpy to tensors.\n",
    "X = tf.constant(wine_data.data)\n",
    "y = tf.constant(wine_data.target)"
   ]
  },
  {
   "cell_type": "code",
   "execution_count": 19,
   "metadata": {
    "collapsed": true
   },
   "outputs": [],
   "source": [
    "# Specify number of epochs\n",
    "num_epochs = 5\n",
    "\n",
    "# Create empty list to store the accuracy of each epoch\n",
    "hist_accuracy = []\n",
    "\n",
    "for i in range(num_epochs):\n",
    "    # One step of gradient descent\n",
    "    optimizer.apply_gradients(grads_fn(model, X, y))\n",
    "    # Predict targets after taking a step of gradient descent\n",
    "    logits = model.predict(X)\n",
    "    preds = tf.argmax(logits, axis=1)\n",
    "    # Compute the accuracy\n",
    "    accuracy(preds, y)\n",
    "    # Get the actual result and add it to our list\n",
    "    hist_accuracy.append(accuracy.result())\n",
    "    # Reset accuracy value (we don't want to track the running mean accuracy)\n",
    "    accuracy.init_variables()\n",
    "    "
   ]
  },
  {
   "cell_type": "code",
   "execution_count": 20,
   "metadata": {},
   "outputs": [
    {
     "data": {
      "image/png": "[encoded data removed]",
      "text/plain": [
       "<matplotlib.figure.Figure at 0x7fbc7e91b9e8>"
      ]
     },
     "metadata": {},
     "output_type": "display_data"
    }
   ],
   "source": [
    "plt.plot(range(num_epochs), hist_accuracy);\n",
    "plt.xlabel('Epoch number', fontsize=15);\n",
    "plt.ylabel('Accuracy', fontsize=15);\n",
    "plt.title('Training accuracy history', fontsize=15);"
   ]
  },
  {
   "cell_type": "markdown",
   "metadata": {},
   "source": [
    "### Confusion matrix\n",
    "----\n",
    "Visualizing the confusion matrix after you finished training the algorithm is a great way to give you global overview on the performance of your network. TensorFlow has a built-in function to compute the confusion matrix and fortunately it is compatible with eager mode. So let's visualize the confusion matrix of this dataset."
   ]
  },
  {
   "cell_type": "code",
   "execution_count": 21,
   "metadata": {
    "collapsed": true
   },
   "outputs": [],
   "source": [
    "# Get the predictions on the entire dataset\n",
    "logits = model.predict(X)\n",
    "preds = tf.argmax(logits, axis=1)"
   ]
  },
  {
   "cell_type": "code",
   "execution_count": 22,
   "metadata": {},
   "outputs": [
    {
     "name": "stdout",
     "output_type": "stream",
     "text": [
      "Confusion matrix: \n",
      " [[57  0  2]\n",
      " [ 0 70  1]\n",
      " [ 0  2 46]]\n"
     ]
    }
   ],
   "source": [
    "# Print confusion matrix\n",
    "conf_matrix = tf.confusion_matrix(y, preds, num_classes=3)\n",
    "print('Confusion matrix: \\n', conf_matrix.numpy())"
   ]
  },
  {
   "cell_type": "markdown",
   "metadata": {},
   "source": [
    "The diagonal matrix shows the true positives whilst the lower and upper bound of the matrix shows the false positives."
   ]
  },
  {
   "cell_type": "markdown",
   "metadata": {},
   "source": [
    "### Precision score\n",
    "----\n",
    "Most of the metrics available in TensorFlow belong to tf.metrics which unfortunately isn't compatible with eager mode at the moment. No worries though, the confusion matrix computed above makes it extremely easy to compute the mean average precision. I will implement a function below, which computes it automatically for you. You can also specify the weights of each class. For example, maybe the precision for class 2 is more important for you for some reason."
   ]
  },
  {
   "cell_type": "code",
   "execution_count": 23,
   "metadata": {
    "collapsed": true
   },
   "outputs": [],
   "source": [
    "def precision(labels, predictions, weights=None):\n",
    "    conf_matrix = tf.confusion_matrix(labels, predictions, num_classes=3)\n",
    "    tp_and_fp = tf.reduce_sum(conf_matrix, axis=0)\n",
    "    tp = tf.diag_part(conf_matrix)\n",
    "    precision_scores = tp/(tp_and_fp)\n",
    "    if weights:\n",
    "        precision_score = tf.multiply(precision_scores, weights)/tf.reduce_sum(weights)\n",
    "    else:\n",
    "        precision_score = tf.reduce_mean(precision_scores)        \n",
    "    return precision_score"
   ]
  },
  {
   "cell_type": "code",
   "execution_count": 24,
   "metadata": {},
   "outputs": [
    {
     "name": "stdout",
     "output_type": "stream",
     "text": [
      "Average precision:  0.9703325774754347\n"
     ]
    }
   ],
   "source": [
    "precision_score = precision(y, preds, weights=None)\n",
    "print('Average precision: ', precision_score.numpy())"
   ]
  },
  {
   "cell_type": "markdown",
   "metadata": {},
   "source": [
    "### Recall score\n",
    "----\n",
    "The average recall can be computed very similarly with the precision. Instead of summing the columns, we are going to sum the rows in order to get the total number of true positives and false negatives."
   ]
  },
  {
   "cell_type": "code",
   "execution_count": 25,
   "metadata": {
    "collapsed": true
   },
   "outputs": [],
   "source": [
    "def recall(labels, predictions, weights=None):\n",
    "    conf_matrix = tf.confusion_matrix(labels, predictions, num_classes=3)\n",
    "    tp_and_fn = tf.reduce_sum(conf_matrix, axis=1)\n",
    "    tp = tf.diag_part(conf_matrix)\n",
    "    recall_scores = tp/(tp_and_fn)\n",
    "    if weights:\n",
    "        recall_score = tf.multiply(recall_scores, weights)/tf.reduce_sum(weights)\n",
    "    else:\n",
    "        recall_score = tf.reduce_mean(recall_scores)        \n",
    "    return recall_score"
   ]
  },
  {
   "cell_type": "code",
   "execution_count": 26,
   "metadata": {},
   "outputs": [
    {
     "name": "stdout",
     "output_type": "stream",
     "text": [
      "Average precision:  0.9701168404021114\n"
     ]
    }
   ],
   "source": [
    "recall_score = recall(y, preds, weights=None)\n",
    "print('Average precision: ', recall_score.numpy())"
   ]
  },
  {
   "cell_type": "markdown",
   "metadata": {},
   "source": [
    "## Part II: Imbalanced binary classification\n",
    "----\n",
    "When you'll start working with real datasets, you will quickly come to notice that most of the problems are kinda imbalanced. For example, anomaly detection problems are severely imbalanced given the proportion of anomalous samples in comparison with the normal ones. In these cases, a more suitable metric to assess the performance of your network is the ROC-AUC score. So, let's build our imbalanced dataset and start working on it :)!"
   ]
  },
  {
   "cell_type": "code",
   "execution_count": 27,
   "metadata": {
    "collapsed": true
   },
   "outputs": [],
   "source": [
    "X, y = make_classification(n_samples=1000, n_features=2, n_informative=2, \n",
    "                           n_redundant=0, n_classes=2, n_clusters_per_class=1,\n",
    "                           flip_y=0.1, class_sep=4, hypercube=False, \n",
    "                           shift=0.0, scale=1.0, random_state=2018)\n",
    "\n",
    "# Reduce the number of samples with target 1\n",
    "X = np.vstack([X[y==0], X[y==1][:50]])\n",
    "y = np.hstack([y[y==0], y[y==1][:50]])"
   ]
  },
  {
   "cell_type": "markdown",
   "metadata": {},
   "source": [
    "### Visualizing the dataset\n",
    "----"
   ]
  },
  {
   "cell_type": "code",
   "execution_count": 28,
   "metadata": {},
   "outputs": [
    {
     "data": {
      "image/png": "[encoded data removed]",
      "text/plain": [
       "<matplotlib.figure.Figure at 0x7fbc786664e0>"
      ]
     },
     "metadata": {},
     "output_type": "display_data"
    }
   ],
   "source": [
    "plt.scatter(X[:,0], X[:,1], c=y, cmap=plt.cm.winter)\n",
    "plt.xlabel('First feature', fontsize=15)\n",
    "plt.ylabel('Second feature', fontsize=15)\n",
    "plt.title('Imbalanced classification example', fontsize=15)\n",
    "plt.show()"
   ]
  },
  {
   "cell_type": "markdown",
   "metadata": {},
   "source": [
    "We will be using the same neural network architecture. We just have to initialize the model with num_classes=2, as we're working with a binary classification problem."
   ]
  },
  {
   "cell_type": "code",
   "execution_count": 29,
   "metadata": {
    "collapsed": true
   },
   "outputs": [],
   "source": [
    "# Numpy arrays to tensors\n",
    "X = tf.constant(X)\n",
    "y = tf.constant(y)\n",
    "\n",
    "# Initialize model \n",
    "model = two_layer_nn(output_size=2)"
   ]
  },
  {
   "cell_type": "markdown",
   "metadata": {},
   "source": [
    "Let's train the model just for a few epochs, in order to avoid overfitting."
   ]
  },
  {
   "cell_type": "code",
   "execution_count": 30,
   "metadata": {},
   "outputs": [],
   "source": [
    "# Specify number of epochs\n",
    "num_epochs = 5\n",
    "\n",
    "for i in range(num_epochs):\n",
    "    # One step of gradient descent\n",
    "    optimizer.apply_gradients(grads_fn(model, X, y))"
   ]
  },
  {
   "cell_type": "markdown",
   "metadata": {},
   "source": [
    "### How to compute the ROC-AUC score\n",
    "----\n",
    "To compute the ROC-AUC score, we will use the same methodology as in *tf.metric.auc*. For each probability threshold, we will be computing the number of *true positives*, *true negatives*, *false positives* and *false negatives*. After computing these statistics, we can compute the true positive rate and false positive rate for each probability threshold. \n",
    "\n",
    "To approximate the area under the ROC curve, we will be using *Riemann sums* and the *trapezoidal rule*. If you would like to find more info on this you can have look [here](https://www.khanacademy.org/math/ap-calculus-ab/ab-accumulation-riemann-sums/ab-midpoint-trapezoid/a/understanding-the-trapezoid-rule)."
   ]
  },
  {
   "cell_type": "markdown",
   "metadata": {},
   "source": [
    "### ROC-AUC Function\n",
    "----"
   ]
  },
  {
   "cell_type": "code",
   "execution_count": 31,
   "metadata": {
    "collapsed": true
   },
   "outputs": [],
   "source": [
    "def roc_auc(labels, predictions, thresholds, get_fpr_tpr=True):\n",
    "    tpr = []\n",
    "    fpr = []\n",
    "    for th in thresholds:    \n",
    "        # Compute number of true positives\n",
    "        tp_cases = tf.where((tf.greater_equal(predictions, th)) & \n",
    "                            (tf.equal(labels, 1)))\n",
    "        tp = tf.size(tp_cases)\n",
    "        \n",
    "        # Compute number of true negatives\n",
    "        tn_cases = tf.where((tf.less(predictions, th)) & \n",
    "                            (tf.equal(labels, 0)))\n",
    "        tn = tf.size(tn_cases)\n",
    "        \n",
    "        # Compute number of false positives\n",
    "        fp_cases = tf.where((tf.greater_equal(predictions, th)) & \n",
    "                            (tf.equal(labels,0)))\n",
    "        fp = tf.size(fp_cases)\n",
    "        \n",
    "        # Compute number of false negatives\n",
    "        fn_cases = tf.where((tf.less(predictions, th)) & \n",
    "                            (tf.equal(labels,1)))\n",
    "        fn = tf.size(fn_cases)\n",
    "        \n",
    "        # Compute True Positive Rate for this threshold\n",
    "        tpr_th = tp/(tp + fn)\n",
    "        \n",
    "        # Compute the False Positive Rate for this threshold\n",
    "        fpr_th = fp/(fp + tn)\n",
    "        \n",
    "        # Append to the entire True Positive Rate list\n",
    "        tpr.append(tpr_th)\n",
    "        \n",
    "        # Append to the entire False Positive Rate list\n",
    "        fpr.append(fpr_th)\n",
    "        \n",
    "    # Approximate area under the curve using Riemann sums and the trapezoidal rule\n",
    "    auc_score = 0\n",
    "    for i in range(0, len(thresholds)-1):\n",
    "        height_step = tf.abs(fpr[i+1]-fpr[i])\n",
    "        b1 = tpr[i]\n",
    "        b2 = tpr[i+1]\n",
    "        step_area = height_step*(b1+b2)/2\n",
    "        auc_score += step_area\n",
    "    return auc_score, fpr, tpr"
   ]
  },
  {
   "cell_type": "markdown",
   "metadata": {},
   "source": [
    "### Compute the ROC-AUC score of our trained model and plot the ROC curve\n",
    "----"
   ]
  },
  {
   "cell_type": "code",
   "execution_count": 32,
   "metadata": {},
   "outputs": [],
   "source": [
    "# More thresholds means higher granularity for the area under the curve approximation\n",
    "# Feel free to experiment with the number of thresholds\n",
    "num_thresholds = 1000 \n",
    "thresholds = tf.lin_space(0.0, 1.0, num_thresholds).numpy()"
   ]
  },
  {
   "cell_type": "code",
   "execution_count": 33,
   "metadata": {},
   "outputs": [],
   "source": [
    "# Apply Softmax on our predictions as the output of the model is unnormalized\n",
    "# Select the predictions of our positive class (the class with less samples)\n",
    "preds = tf.nn.softmax(model.predict(X))[:,1] \n",
    "\n",
    "# Compute the ROC-AUC score and get the TPR and FPR of each threshold\n",
    "auc_score, fpr_list, tpr_list = roc_auc(y, preds, thresholds)"
   ]
  },
  {
   "cell_type": "code",
   "execution_count": 34,
   "metadata": {},
   "outputs": [
    {
     "name": "stdout",
     "output_type": "stream",
     "text": [
      "ROC-AUC score of the model:  0.9245766129032261\n"
     ]
    }
   ],
   "source": [
    "print('ROC-AUC score of the model: ', auc_score.numpy())"
   ]
  },
  {
   "cell_type": "code",
   "execution_count": 35,
   "metadata": {},
   "outputs": [
    {
     "data": {
      "image/png": "[encoded data removed]",
      "text/plain": [
       "<matplotlib.figure.Figure at 0x7fbc785a9198>"
      ]
     },
     "metadata": {},
     "output_type": "display_data"
    }
   ],
   "source": [
    "plt.plot(fpr_list, tpr_list, label='AUC score: %.2f' %auc_score);\n",
    "plt.xlabel('False Positive Rate', fontsize=15);\n",
    "plt.ylabel('True Positive Rate', fontsize=15);\n",
    "plt.title('ROC curve');\n",
    "plt.legend(fontsize=15);"
   ]
  },
  {
   "cell_type": "markdown",
   "metadata": {},
   "source": [
    "## Part III: Dataset for regression\n",
    "---\n",
    "Our final dataset is created for a simple regression task. In the previous two problems, the output of the network represented the class the sample belongs to. Here the output of the network is continuous, a real number. \n",
    "\n",
    "Our input dataset consists only of one feature, to keep things simple and easy to visualize. The target y is a vector of real numbers.\n",
    "\n",
    "Let's create our toy dataset :)!"
   ]
  },
  {
   "cell_type": "code",
   "execution_count": 66,
   "metadata": {
    "collapsed": true
   },
   "outputs": [],
   "source": [
    "X, y = make_regression(n_samples=100, n_features=1, n_informative=1, noise=30, \n",
    "                       random_state=2018)"
   ]
  },
  {
   "cell_type": "markdown",
   "metadata": {},
   "source": [
    "### Visualize the input feature and target\n",
    "----\n",
    "To get a better glimpse on the problem we're working on, let's plot the input feature with regards to the target."
   ]
  },
  {
   "cell_type": "code",
   "execution_count": 67,
   "metadata": {},
   "outputs": [
    {
     "data": {
      "image/png": "[encoded data removed]",
      "text/plain": [
       "<matplotlib.figure.Figure at 0x7fbc78546ac8>"
      ]
     },
     "metadata": {},
     "output_type": "display_data"
    }
   ],
   "source": [
    "plt.scatter(X, y);\n",
    "plt.xlabel('Input', fontsize=15);\n",
    "plt.ylabel('Target', fontsize=15);\n",
    "plt.title('Toy regression problem', fontsize=15);"
   ]
  },
  {
   "cell_type": "markdown",
   "metadata": {},
   "source": [
    "### Neural network for regression task\n",
    "----\n",
    "We can re-use the two-layer neural network created above. As we only need to predict one real number, the output size of the network is 1."
   ]
  },
  {
   "cell_type": "code",
   "execution_count": 68,
   "metadata": {
    "collapsed": true
   },
   "outputs": [],
   "source": [
    "# Numpy arrays to tensors\n",
    "X = tf.constant(X)\n",
    "y = tf.constant(y)\n",
    "y = tf.reshape(y, [-1,1]) # change from row vector to column vector\n",
    "\n",
    "# Initialize model \n",
    "model = two_layer_nn(output_size=1)"
   ]
  },
  {
   "cell_type": "markdown",
   "metadata": {},
   "source": [
    "We have to redefine our loss function, as we cannot continue using the softmax cross-entropy loss. Instead, we will be using the mean squared error loss function. We will also define a new optimizer, with a smaller learning rate than the previous one. \n",
    "\n",
    "The function to compute the gradients of the variables with respect to the loss function stays the same."
   ]
  },
  {
   "cell_type": "code",
   "execution_count": 69,
   "metadata": {
    "collapsed": true
   },
   "outputs": [],
   "source": [
    "# Define loss function\n",
    "def loss_reg(model, X, y):\n",
    "    preds = model.predict(X)\n",
    "    return tf.losses.mean_squared_error(y, preds)\n",
    "\n",
    "# Define optimizer\n",
    "optimizer_reg = tf.train.GradientDescentOptimizer(1e-4)\n",
    "\n",
    "# Function to compute the gradients of variables with respect to the loss function\n",
    "grads_reg = tfe.implicit_gradients(loss_reg)"
   ]
  },
  {
   "cell_type": "markdown",
   "metadata": {},
   "source": [
    "### Neural network training \n",
    "----\n",
    "Feel free to play here with the number of epochs."
   ]
  },
  {
   "cell_type": "code",
   "execution_count": 70,
   "metadata": {},
   "outputs": [],
   "source": [
    "# Specify number of epochs\n",
    "num_epochs = 300\n",
    "\n",
    "for i in range(num_epochs):\n",
    "    # One step of gradient descent\n",
    "    optimizer_reg.apply_gradients(grads_reg(model, X, y))"
   ]
  },
  {
   "cell_type": "markdown",
   "metadata": {},
   "source": [
    "### Computing the $R^2$ score (coefficient of determination)\n",
    "----\n",
    "If you ever worked on a regression problem, you probably already heard about this score.\n",
    "\n",
    "This metric computes the percentage of variability between the input features and the target, that is explained by our model. The range of values for the $R^2$ score is between 0 and 1. An $R^2$ score of 1 means that the model makes perfect predictions. An $R^2$ score of 0 is obtained by always predicting the mean of the targets y. \n",
    "\n",
    "It is possible to obtain negative values for $R^2$. In this case, it means that our model makes worse predictions than a model which always predicts the mean of the target variable. \n",
    "\n",
    "As this metric is not readily available in TensorFlow 1.5, when running in eager mode, I have created a small function for it, in the cell below."
   ]
  },
  {
   "cell_type": "code",
   "execution_count": 71,
   "metadata": {},
   "outputs": [
    {
     "name": "stdout",
     "output_type": "stream",
     "text": [
      "R2 score:  0.824331767156633\n"
     ]
    }
   ],
   "source": [
    "# Compute the R2 score\n",
    "def r2(labels, predictions):\n",
    "    mean_labels = tf.reduce_mean(labels)\n",
    "    total_sum_squares = tf.reduce_sum((labels-mean_labels)**2)\n",
    "    residual_sum_squares = tf.reduce_sum((labels-predictions)**2)\n",
    "    r2_score = 1 - residual_sum_squares/total_sum_squares\n",
    "    return r2_score\n",
    "\n",
    "preds = model.predict(X)\n",
    "r2_score = r2(y, preds)\n",
    "print('R2 score: ', r2_score.numpy())"
   ]
  },
  {
   "cell_type": "markdown",
   "metadata": {},
   "source": [
    "### Visualizing the line of best fit\n",
    "----\n",
    "To visualize the line of best fit of our neural network, we simply take the linear space between X_min and X_max. "
   ]
  },
  {
   "cell_type": "code",
   "execution_count": 72,
   "metadata": {
    "collapsed": true
   },
   "outputs": [],
   "source": [
    "# Create datapoints between X_min and X_max to visualize the line of best fit\n",
    "X_best_fit = np.arange(X.numpy().min(), X.numpy().max(), 0.001)[:,None]"
   ]
  },
  {
   "cell_type": "code",
   "execution_count": 73,
   "metadata": {
    "collapsed": true
   },
   "outputs": [],
   "source": [
    "# Predictions on X_best_fit\n",
    "preds_best_fit = model.predict(X_best_fit)"
   ]
  },
  {
   "cell_type": "code",
   "execution_count": 74,
   "metadata": {},
   "outputs": [
    {
     "data": {
      "image/png": "[encoded data removed]",
      "text/plain": [
       "<matplotlib.figure.Figure at 0x7fbc78249198>"
      ]
     },
     "metadata": {},
     "output_type": "display_data"
    }
   ],
   "source": [
    "plt.scatter(X.numpy(), y.numpy()); # Original datapoints\n",
    "plt.plot(X_best_fit, preds_best_fit.numpy(), color='k',\n",
    "         linewidth=6, label='$R^2$ score: %.2f' %r2_score) # Our predictions\n",
    "plt.xlabel('Input', fontsize=15);\n",
    "plt.ylabel('Target', fontsize=15);\n",
    "plt.title('Toy regression problem', fontsize=15);\n",
    "plt.legend(fontsize=15);"
   ]
  },
  {
   "cell_type": "code",
   "execution_count": null,
   "metadata": {
    "collapsed": true
   },
   "outputs": [],
   "source": []
  }
 ],
 "metadata": {
  "kernelspec": {
   "display_name": "Python 3",
   "language": "python",
   "name": "python3"
  },
  "language_info": {
   "codemirror_mode": {
    "name": "ipython",
    "version": 3
   },
   "file_extension": ".py",
   "mimetype": "text/x-python",
   "name": "python",
   "nbconvert_exporter": "python",
   "pygments_lexer": "ipython3",
   "version": "3.6.2"
  }
 },
 "nbformat": 4,
 "nbformat_minor": 2
}
