{
 "cells": [
  {
   "cell_type": "markdown",
   "metadata": {},
   "source": [
    "## Recurrent neural networks for sequence classification with TensorFlow Eager\n",
    "----\n",
    "\n",
    "Hello everyone! In this tutorial, we are going to build a recurrent neural network for sentiment analysis on IMDB movie reviews. I've chosen this dataset as it is small in size and very easy to download by any of you so that there's no bottleneck in data acquisition :).\n",
    "\n",
    "The main aim of this tutorial is not focused on teaching you how to build a simple RNN, but rather on how to build a RNN that gives you more flexibility in the model development (e.g. use a new RNN cell that is not currently available in Keras, easier access to the unrolled outputs of the RNN, read data in batches from disk). My hope is to be able to give you a glimpse on how you can go on and build your own models, no matter how complicated they might get, in whatever area might be of interest to you.\n",
    "\n",
    "**This tutorial will thus be divided in the following steps:**\n",
    "<div >\n",
    "> * *Download the **raw data** and transfer it to **TFRecords** (the default TensorFlow file format).*\n",
    "* *Prepare a **dataset Iterator** that reads data in batches, from disk, and automatically pads the input data of  variable length to the maximum size within a batch.*\n",
    "* *Build a **word-level RNN** model with both **LSTM** and **UGRNN cells**.*\n",
    "* *Save trained models*\n",
    "* *Compare the performance of both cells on the test dataset.*\n",
    "* *Test the network on a new review*\n",
    "</div>\n",
    "If you would like to add anything to this tutorial please let me know. Also, I am happy to hear any suggestions you have for improvement."
   ]
  },
  {
   "cell_type": "code",
   "execution_count": 2,
   "metadata": {},
   "outputs": [],
   "source": [
    "###################################################\n",
    "# Import here useful libraries\n",
    "###################################################\n",
    "import warnings\n",
    "warnings.simplefilter(action='ignore', category=FutureWarning)\n",
    "\n",
    "# Import functions to write and parse TFRecords\n",
    "from data_utils import imdb2tfrecords\n",
    "from data_utils import parse_imdb_sequence\n",
    "\n",
    "# Import TensorFlow and TensorFlow Eager\n",
    "import tensorflow as tf\n",
    "import tensorflow.contrib.eager as tfe\n",
    "\n",
    "# Import pandas for data processing and pickle for data reading\n",
    "import matplotlib.pyplot as plt\n",
    "import pandas as pd\n",
    "import pickle\n",
    "\n",
    "%matplotlib inline"
   ]
  },
  {
   "cell_type": "code",
   "execution_count": 3,
   "metadata": {},
   "outputs": [],
   "source": [
    "# Enable eager mode. Once activated it cannot be reversed! Run just once.\n",
    "tfe.enable_eager_execution(device_policy=tfe.DEVICE_PLACEMENT_SILENT)"
   ]
  },
  {
   "cell_type": "markdown",
   "metadata": {},
   "source": [
    "### Download data and transfer it to TFRecords\n",
    "----\n",
    "\n",
    "Alternatively, if you clone this repository, you will automatically download the parsed data to TFRecords, so feel free to skip this step. If you would like to test this RNN network with a new dataset, please have a look at the *imdb2tfrecords* or *parse_imdb_sequence* in the *data_utils.py* script in order to understand how you could parse your new data to TFRecords. I really recommend using this file format as it makes is very easy to work with very large datasets, without being constrained to your RAM capabilities.\n",
    "\n",
    "To download this dataset, simply run in the terminal:\n",
    "> **chmod o+x datasets/get_imdb_dataset.sh**\n",
    "\n",
    "> **datasets/get_imdb_dataset.sh**\n",
    "\n",
    "After downloading the dataset, simply run the imdb2tfrecords function. This function will parse each review into a list of word indices. At the end of this processing, each tfrecord will be composed of a *sequence of word indexes*, the *target (0 for negative sentiment or 1 for positive sentiment)* and the *sequence length* of the review."
   ]
  },
  {
   "cell_type": "code",
   "execution_count": 4,
   "metadata": {},
   "outputs": [],
   "source": [
    "# Function to process the raw data to TFRecords, indexing each word in the review to an index.\n",
    "#imdb2tfrecords(path_data='datasets/aclImdb/', min_word_frequency=5, max_words_review=700)"
   ]
  },
  {
   "cell_type": "code",
   "execution_count": 50,
   "metadata": {},
   "outputs": [
    {
     "data": {
      "image/png": "[encoded data removed]",
      "text/plain": [
       "<matplotlib.figure.Figure at 0x7f0b705a8e80>"
      ]
     },
     "metadata": {},
     "output_type": "display_data"
    }
   ],
   "source": [
    "length_reviews = pickle.load(open('datasets/aclImdb/length_reviews.pkl', 'rb'))\n",
    "pd.DataFrame(length_reviews, columns=['Length reviews']).hist(bins=50);\n",
    "plt.grid(False);"
   ]
  },
  {
   "cell_type": "markdown",
   "metadata": {},
   "source": [
    "Dataset info:\n",
    "* 25000 reviews in the train dataset (12500 positive and 125000 negative)\n",
    "* 25000 reviews in the test dataset (12500 positive and 125000 negative)\n",
    "\n",
    "Here is an example of a positive review:\n",
    "<div style='background-color:#4897d8;padding:20px;'>\n",
    "Rented the movie as a joke. My friends and I had so much fun laughing at it that I went and found a used copy and bought it for myself. Now when all my friends are looking for a funny movie I give them Sasquatch Hunters. It needs to be said though there is a rule that was made that made the movie that much better. No talking is allowed while the movie is on unless the words are Sasquatch repeated in a chant. I loved the credit at the end of the movie as well. \"Thanks for the Jeep, Tom!\" Whoever Tom is I say thank you because without your Jeep the movie may not have been made. In short a great movie if you are looking for something to laugh at. If you want a good movie maybe look for something else but if you don't mind a laugh at the expense of a man in a monkey suit grab yourself a copy.\n",
    "</div>\n",
    "\n",
    "And here is an example of a negative review:\n",
    "<div style='background-color:#fa6e59;padding:20px;'>\n",
    "The Good: I liked this movie because it was the first horror movie I've seen in a long time that actually scared me. The acting wasn't too bad, and the \"Cupid\" killer was believable and disturbing. The Bad: The story line and plot of this movie is incredibly weak. There just wasn't much to it. The ways the killer killed his victims was very horrifying and disgusting. I do not recommend this movie to anyone who can not handle gore. Overall: A good scare, but a bad story. \n",
    "</div>\n",
    "\n",
    "\n",
    "### RNN model for sequence classification, compatible with Eager API \n",
    "----\n",
    "![img](tutorials_graphics/ImdbLSTM.png)"
   ]
  },
  {
   "cell_type": "code",
   "execution_count": 6,
   "metadata": {},
   "outputs": [],
   "source": [
    "class RNNModel(tf.keras.Model):\n",
    "    def __init__(self, embedding_size=100, cell_size=64, dense_size=128, \n",
    "                 num_classes=2, vocabulary_size=None, rnn_cell='lstm'):\n",
    "        '''\n",
    "        Initializing the parameters of the model.\n",
    "        '''\n",
    "        super(RNNModel, self).__init__()\n",
    "        \n",
    "        # Weights initializer function\n",
    "        w_initializer = tf.contrib.layers.xavier_initializer()\n",
    "        \n",
    "        # Biases initializer function\n",
    "        b_initializer = tf.zeros_initializer()\n",
    "        \n",
    "        # Initialize weights for word embeddings \n",
    "        self.embeddings = tf.keras.layers.Embedding(vocabulary_size, embedding_size, \n",
    "                                                    embeddings_initializer=w_initializer)\n",
    "        \n",
    "        # Dense layer initialization\n",
    "        self.dense_layer = tf.keras.layers.Dense(dense_size, activation=tf.nn.relu, \n",
    "                                                 kernel_initializer=w_initializer, \n",
    "                                                 bias_initializer=b_initializer)\n",
    "        \n",
    "        # Predictions layer initialization\n",
    "        self.pred_layer = tf.keras.layers.Dense(num_classes, activation=None, \n",
    "                                                kernel_initializer=w_initializer, \n",
    "                                                bias_initializer=b_initializer)\n",
    "        \n",
    "        # Basic LSTM cell\n",
    "        if rnn_cell=='lstm':\n",
    "            self.rnn_cell = tf.nn.rnn_cell.BasicLSTMCell(cell_size)\n",
    "        # Else UGRNN cell\n",
    "        else:\n",
    "            self.rnn_cell = tf.contrib.rnn.UGRNNCell(cell_size)\n",
    "        \n",
    "    def predict(self, X, seq_length, is_training):\n",
    "        '''\n",
    "        Predicts the probability of each class, based on the input sample.\n",
    "\n",
    "        Args:\n",
    "            X: 3D tensor of shape (batch_size, time_steps)\n",
    "            seq_length: the length of each sequence in the batch, size (batch_size,)\n",
    "        '''\n",
    "        # Get the number of samples within a batch\n",
    "        num_samples = tf.shape(X)[0]\n",
    "\n",
    "        # Initialize LSTM cell state with zeros\n",
    "        state = self.rnn_cell.zero_state(num_samples, dtype=tf.float32)\n",
    "        \n",
    "        # Get the embedding of each word in the sequence\n",
    "        embedded_words = self.embeddings(X)\n",
    "        \n",
    "        # Unstack the embeddings\n",
    "        unstacked_embeddings = tf.unstack(embedded_words, axis=1)\n",
    "        \n",
    "        # Iterate through each timestep and append the predictions\n",
    "        outputs = []\n",
    "        for input_step in unstacked_embeddings:\n",
    "            output, state = self.rnn_cell(input_step, state)\n",
    "            outputs.append(output)\n",
    "            \n",
    "        # Stack outputs to (batch_size, time_steps, cell_size)\n",
    "        outputs = tf.stack(outputs, axis=1)\n",
    "        \n",
    "        # Extract the output of the last time step, of each sample\n",
    "        final_output = tf.gather_nd(outputs, tf.stack([tf.range(num_samples), \n",
    "                                                       tf.cast(seq_length-1, tf.int32)], axis=1))\n",
    "        \n",
    "        # Add dropout for regularization\n",
    "        dropped_output = tf.layers.dropout(final_output, rate=0.3, training=is_training)\n",
    "        \n",
    "        # Pass the last cell state through a dense layer (ReLU activation)\n",
    "        dense = self.dense_layer(dropped_output)\n",
    "        \n",
    "        # Compute the unnormalized log probabilities\n",
    "        logits = self.pred_layer(dense)\n",
    "        \n",
    "        return logits"
   ]
  },
  {
   "cell_type": "markdown",
   "metadata": {},
   "source": [
    "### Define a loss function, optimizer and gradient function\n",
    "----"
   ]
  },
  {
   "cell_type": "code",
   "execution_count": 7,
   "metadata": {},
   "outputs": [],
   "source": [
    "# Define loss function\n",
    "def loss(model, X, seq_length, y, is_training):\n",
    "    logits = model.predict(X, seq_length, is_training)\n",
    "    return tf.losses.sparse_softmax_cross_entropy(labels=y, logits=logits)"
   ]
  },
  {
   "cell_type": "code",
   "execution_count": 9,
   "metadata": {},
   "outputs": [],
   "source": [
    "# Define function to compute gradients\n",
    "def grad(model, X, seq_length, y, is_training):\n",
    "    with tfe.GradientTape() as tape:\n",
    "        loss_value = loss(model, X, seq_length, y, is_training)\n",
    "    return tape.gradient(loss_value, model.variables)"
   ]
  },
  {
   "cell_type": "markdown",
   "metadata": {},
   "source": [
    "### Define function for model training with early stopping\n",
    "----\n"
   ]
  },
  {
   "cell_type": "code",
   "execution_count": 10,
   "metadata": {},
   "outputs": [],
   "source": [
    "def train_model(model, train_dataset, test_dataset, device='cpu:0', num_epochs=500,\n",
    "                early_stopping_rounds=5, best_acc=-1, verbose=True):\n",
    "    \n",
    "    # Initialize classes to compute the mean accuracy of train and test\n",
    "    train_acc = tfe.metrics.Accuracy('train_acc')\n",
    "    test_acc = tfe.metrics.Accuracy('test_acc')\n",
    "    \n",
    "    # Create dictionary to store training and dev results\n",
    "    history = {}\n",
    "    history['train_acc'], history['test_acc'] = [], []\n",
    "    \n",
    "    # Begin training\n",
    "    with tf.device(device):\n",
    "        for i in range(num_epochs):\n",
    "            # Batch gradient descent on entire dataset\n",
    "            for X, y, seq_length in tfe.Iterator(train_dataset):\n",
    "                grads = grad(model, X, seq_length, y, True)\n",
    "                optimizer.apply_gradients(zip(grads, model.variables))   \n",
    "\n",
    "            # Check accuracy train dataset\n",
    "            for X, y, seq_length in tfe.Iterator(train_dataset):\n",
    "                logits = model.predict(X, seq_length, False)\n",
    "                preds = tf.argmax(logits, axis=1)\n",
    "                train_acc(preds, y)\n",
    "            history['train_acc'].append(train_acc.result().numpy())\n",
    "            # Reset metrics\n",
    "            train_acc.init_variables()\n",
    "\n",
    "            # Check accuracy test dataset\n",
    "            for X, y, seq_length in tfe.Iterator(test_dataset):\n",
    "                logits = model.predict(X, seq_length, False)\n",
    "                preds = tf.argmax(logits, axis=1)\n",
    "                test_acc(preds, y)\n",
    "            history['test_acc'].append(test_acc.result().numpy())\n",
    "            # Reset metrics\n",
    "            test_acc.init_variables()\n",
    "            \n",
    "            if verbose:\n",
    "                # Print train and test accuracies\n",
    "                print('Train accuracy at epoch %d: ' %(i+1), history['train_acc'][-1])\n",
    "                print('Test accuracy at epoch %d: ' %(i+1), history['test_acc'][-1])\n",
    "\n",
    "            # Check for early stopping\n",
    "            if history['test_acc'][-1]>best_acc:\n",
    "                best_acc = history['test_acc'][-1]\n",
    "                count = early_stopping_rounds\n",
    "            else:\n",
    "                count -= 1\n",
    "            if count==0:\n",
    "                return model, history\n",
    "                break"
   ]
  },
  {
   "cell_type": "markdown",
   "metadata": {},
   "source": [
    "## Word-Level RNN\n",
    "### Creating a train and test dataset iterator\n",
    "----    "
   ]
  },
  {
   "cell_type": "code",
   "execution_count": 11,
   "metadata": {},
   "outputs": [],
   "source": [
    "train_dataset = tf.data.TFRecordDataset('datasets/aclImdb/train.tfrecords')\n",
    "train_dataset = train_dataset.map(parse_imdb_sequence).shuffle(buffer_size=10000)\n",
    "train_dataset = train_dataset.padded_batch(512, padded_shapes=([None],[],[]))"
   ]
  },
  {
   "cell_type": "code",
   "execution_count": 12,
   "metadata": {},
   "outputs": [],
   "source": [
    "test_dataset = tf.data.TFRecordDataset('datasets/aclImdb/test.tfrecords')\n",
    "test_dataset = test_dataset.map(parse_imdb_sequence).shuffle(buffer_size=10000)\n",
    "test_dataset = test_dataset.padded_batch(512, padded_shapes=([None],[],[]))"
   ]
  },
  {
   "cell_type": "code",
   "execution_count": 13,
   "metadata": {},
   "outputs": [],
   "source": [
    "# Read the word vocabulary\n",
    "word2idx = pickle.load(open('datasets/aclImdb/word2idx.pkl', 'rb'))"
   ]
  },
  {
   "cell_type": "markdown",
   "metadata": {},
   "source": [
    "### Model training with simple LSTM cells\n",
    "----"
   ]
  },
  {
   "cell_type": "code",
   "execution_count": 14,
   "metadata": {},
   "outputs": [],
   "source": [
    "# Select here the device. Use the GPU if available.\n",
    "device = 'gpu:0' if tfe.num_gpus()>0 else 'cpu:0'"
   ]
  },
  {
   "cell_type": "code",
   "execution_count": 15,
   "metadata": {},
   "outputs": [
    {
     "name": "stdout",
     "output_type": "stream",
     "text": [
      "Train accuracy at epoch 1:  0.70784\n",
      "Test accuracy at epoch 1:  0.68092\n",
      "Train accuracy at epoch 2:  0.78472\n",
      "Test accuracy at epoch 2:  0.76344\n",
      "Train accuracy at epoch 3:  0.8802\n",
      "Test accuracy at epoch 3:  0.83084\n",
      "Train accuracy at epoch 4:  0.92224\n",
      "Test accuracy at epoch 4:  0.85304\n",
      "Train accuracy at epoch 5:  0.94632\n",
      "Test accuracy at epoch 5:  0.87292\n",
      "Train accuracy at epoch 6:  0.95928\n",
      "Test accuracy at epoch 6:  0.87692\n",
      "Train accuracy at epoch 7:  0.97112\n",
      "Test accuracy at epoch 7:  0.8786\n",
      "Train accuracy at epoch 8:  0.98044\n",
      "Test accuracy at epoch 8:  0.87588\n",
      "Train accuracy at epoch 9:  0.9858\n",
      "Test accuracy at epoch 9:  0.8792\n",
      "Train accuracy at epoch 10:  0.9898\n",
      "Test accuracy at epoch 10:  0.8688\n",
      "Train accuracy at epoch 11:  0.99304\n",
      "Test accuracy at epoch 11:  0.86848\n",
      "Train accuracy at epoch 12:  0.99464\n",
      "Test accuracy at epoch 12:  0.85908\n",
      "Train accuracy at epoch 13:  0.9964\n",
      "Test accuracy at epoch 13:  0.86228\n",
      "Train accuracy at epoch 14:  0.99496\n",
      "Test accuracy at epoch 14:  0.8512\n"
     ]
    }
   ],
   "source": [
    "# Train model with early stopping\n",
    "with tf.device(device):\n",
    "    # Initialize optimizer\n",
    "    optimizer = tf.train.AdamOptimizer(learning_rate=1e-4)\n",
    "    model = RNNModel(vocabulary_size=len(word2idx))\n",
    "\n",
    "trained_model, lstm_history = train_model(model, train_dataset, test_dataset, device=device)"
   ]
  },
  {
   "cell_type": "code",
   "execution_count": 16,
   "metadata": {},
   "outputs": [
    {
     "data": {
      "text/plain": [
       "'models_checkpoints/ImdbRNN/SimpleLSTM/-0'"
      ]
     },
     "execution_count": 16,
     "metadata": {},
     "output_type": "execute_result"
    }
   ],
   "source": [
    "# Save model\n",
    "checkpoint_directory = 'models_checkpoints/ImdbRNN/SimpleLSTM/'\n",
    "tfe.Saver(trained_model.variables).save(checkpoint_directory, global_step=0)"
   ]
  },
  {
   "cell_type": "markdown",
   "metadata": {},
   "source": [
    "### Model training with UGRNN cells \n",
    "---"
   ]
  },
  {
   "cell_type": "code",
   "execution_count": 17,
   "metadata": {},
   "outputs": [
    {
     "name": "stdout",
     "output_type": "stream",
     "text": [
      "Train accuracy at epoch 1:  0.50796\n",
      "Test accuracy at epoch 1:  0.50724\n",
      "Train accuracy at epoch 2:  0.60708\n",
      "Test accuracy at epoch 2:  0.58\n",
      "Train accuracy at epoch 3:  0.5012\n",
      "Test accuracy at epoch 3:  0.501\n",
      "Train accuracy at epoch 4:  0.53628\n",
      "Test accuracy at epoch 4:  0.52616\n",
      "Train accuracy at epoch 5:  0.64848\n",
      "Test accuracy at epoch 5:  0.61752\n",
      "Train accuracy at epoch 6:  0.85976\n",
      "Test accuracy at epoch 6:  0.80284\n",
      "Train accuracy at epoch 7:  0.9018\n",
      "Test accuracy at epoch 7:  0.83848\n",
      "Train accuracy at epoch 8:  0.93444\n",
      "Test accuracy at epoch 8:  0.86212\n",
      "Train accuracy at epoch 9:  0.95288\n",
      "Test accuracy at epoch 9:  0.87032\n",
      "Train accuracy at epoch 10:  0.96496\n",
      "Test accuracy at epoch 10:  0.87436\n",
      "Train accuracy at epoch 11:  0.975\n",
      "Test accuracy at epoch 11:  0.8628\n",
      "Train accuracy at epoch 12:  0.98068\n",
      "Test accuracy at epoch 12:  0.86936\n",
      "Train accuracy at epoch 13:  0.9874\n",
      "Test accuracy at epoch 13:  0.86028\n",
      "Train accuracy at epoch 14:  0.99036\n",
      "Test accuracy at epoch 14:  0.85648\n",
      "Train accuracy at epoch 15:  0.9938\n",
      "Test accuracy at epoch 15:  0.85916\n"
     ]
    }
   ],
   "source": [
    "# Train model with early stopping\n",
    "with tf.device(device):\n",
    "    tf.reset_default_graph()\n",
    "    # Initialize optimizer\n",
    "    optimizer = tf.train.AdamOptimizer(learning_rate=1e-4)\n",
    "    model = RNNModel(vocabulary_size=len(word2idx), rnn_cell='ugrnn')\n",
    "\n",
    "trained_model, ugrnn_history = train_model(model, train_dataset, test_dataset, device=device)"
   ]
  },
  {
   "cell_type": "code",
   "execution_count": 20,
   "metadata": {},
   "outputs": [
    {
     "data": {
      "text/plain": [
       "'models_checkpoints/ImdbRNN/UGRNN/-0'"
      ]
     },
     "execution_count": 20,
     "metadata": {},
     "output_type": "execute_result"
    }
   ],
   "source": [
    "# Save model\n",
    "checkpoint_directory = 'models_checkpoints/ImdbRNN/UGRNN/'\n",
    "tfe.Saver(trained_model.variables).save(checkpoint_directory, global_step=0)"
   ]
  },
  {
   "cell_type": "markdown",
   "metadata": {},
   "source": [
    "### Performance comparison\n",
    "---"
   ]
  },
  {
   "cell_type": "code",
   "execution_count": 21,
   "metadata": {},
   "outputs": [
    {
     "data": {
      "image/png": "[encoded data removed]",
      "text/plain": [
       "<matplotlib.figure.Figure at 0x7f0c765ca630>"
      ]
     },
     "metadata": {},
     "output_type": "display_data"
    }
   ],
   "source": [
    "f, (ax1, ax2) = plt.subplots(1, 2, sharey=True, figsize=(10, 4))\n",
    "ax1.plot(range(len(lstm_history['train_acc'])), lstm_history['train_acc'], label='LSTM Train Accuracy');\n",
    "ax1.plot(range(len(lstm_history['test_acc'])), lstm_history['test_acc'], label='LSTM Test Accuracy');\n",
    "ax2.plot(range(len(ugrnn_history['train_acc'])), ugrnn_history['train_acc'], label='UGRNN Train Accuracy');\n",
    "ax2.plot(range(len(ugrnn_history['test_acc'])), ugrnn_history['test_acc'], label='UGRNN Test Accuracy');\n",
    "ax1.legend();\n",
    "ax2.legend();"
   ]
  },
  {
   "cell_type": "markdown",
   "metadata": {},
   "source": [
    "#### Time testing"
   ]
  },
  {
   "cell_type": "code",
   "execution_count": 41,
   "metadata": {},
   "outputs": [],
   "source": [
    "optimizer = tf.train.AdamOptimizer(learning_rate=1e-4)\n",
    "X, y, seq_length = tfe.Iterator(train_dataset).get_next()\n",
    "dummy_lstm = RNNModel(vocabulary_size=len(word2idx))\n",
    "dummy_ugrnn = RNNModel(vocabulary_size=len(word2idx), rnn_cell='ugrnn')"
   ]
  },
  {
   "cell_type": "markdown",
   "metadata": {},
   "source": [
    "#### LSTM time performance"
   ]
  },
  {
   "cell_type": "code",
   "execution_count": 47,
   "metadata": {},
   "outputs": [
    {
     "name": "stdout",
     "output_type": "stream",
     "text": [
      "1.13 s ± 81.9 ms per loop (mean ± std. dev. of 7 runs, 1 loop each)\n"
     ]
    }
   ],
   "source": [
    "%%timeit range(5)\n",
    "with tf.device(device):\n",
    "    grads = grad(dummy_lstm, X, seq_length, y, True)\n",
    "    optimizer.apply_gradients(zip(grads, dummy_lstm.variables))   "
   ]
  },
  {
   "cell_type": "markdown",
   "metadata": {},
   "source": [
    "#### UGRNN time performance"
   ]
  },
  {
   "cell_type": "code",
   "execution_count": 46,
   "metadata": {},
   "outputs": [
    {
     "name": "stdout",
     "output_type": "stream",
     "text": [
      "1.25 s ± 48.2 ms per loop (mean ± std. dev. of 7 runs, 1 loop each)\n"
     ]
    }
   ],
   "source": [
    "%%timeit range(5)\n",
    "with tf.device(device):\n",
    "    grads = grad(dummy_ugrnn, X, seq_length, y, True)\n",
    "    optimizer.apply_gradients(zip(grads, dummy_ugrnn.variables))   "
   ]
  },
  {
   "cell_type": "markdown",
   "metadata": {},
   "source": [
    "### Test network on new review\n",
    "---"
   ]
  },
  {
   "cell_type": "code",
   "execution_count": 15,
   "metadata": {},
   "outputs": [],
   "source": [
    "from nltk.tokenize import word_tokenize\n",
    "import re"
   ]
  },
  {
   "cell_type": "code",
   "execution_count": 36,
   "metadata": {},
   "outputs": [],
   "source": [
    "review = \"Deadpool is the movie equivalent of the parents going out of town for the weekend while the high school throws a party, gets drunk, has sex in the backseat of the car and then pukes in the driveway, and in a good way. It appears as though Fox has turned a blind eye while director Tim Miller, star Ryan Reynolds and screenwriters Rhett Reese and Paul Wernick run amok, having the time of their lives and thankfully bringing us along for the ride. Deadpool stars Reynolds as the mentally unhinged hit-man, Wade Wilson. This is not a story where the upstanding protagonist is flung into the throes of an extraordinary situation. No, this superhero tale about an unstable bad guy who gets superpowers, and it's refreshing as hell. Without getting into spoiler territory, this is a revenge movie masquerading as a superhero origin story. Following what may be the most creative opening credits sequence in the history of film, we are flung mercilessly into the maelstrom of Deadpool. Once the light turns green, all bets are off as Deadpool takes us through his journey, explaining his origin, his revenge mission and even his unconventional, if at times endearing relationship with his girlfriend, Vanessa, who may be as, or more, damaged than Wade himself. There really isn't anything bad I can say about the movie, except that I was sad when it ended, but they were able to cram just enough crazy into this 107 minutes that it just works perfectly. I plan on watching movie at least three more times.\""
   ]
  },
  {
   "cell_type": "code",
   "execution_count": 37,
   "metadata": {},
   "outputs": [],
   "source": [
    "review = re.sub(r'<[^>]+>', ' ', review)\n",
    "review = word_tokenize(review)\n",
    "review = [word2idx[word] if word in list(word2idx.keys()) else \n",
    "          word2idx['Unknown_token'] for word in review]\n",
    "indexed_review = review + [word2idx['End_token']]\n",
    "seq_length = len(indexed_review)"
   ]
  },
  {
   "cell_type": "code",
   "execution_count": 43,
   "metadata": {},
   "outputs": [],
   "source": [
    "with tf.device(device):\n",
    "    review = tf.reshape(tf.constant(indexed_review), (1,-1))\n",
    "    seq_length = tf.reshape(tf.constant(seq_length), (1,))\n",
    "    logits = model.predict(review, seq_length, False)\n",
    "   "
   ]
  }
 ],
 "metadata": {
  "kernelspec": {
   "display_name": "Python 3",
   "language": "python",
   "name": "python3"
  },
  "language_info": {
   "codemirror_mode": {
    "name": "ipython",
    "version": 3
   },
   "file_extension": ".py",
   "mimetype": "text/x-python",
   "name": "python",
   "nbconvert_exporter": "python",
   "pygments_lexer": "ipython3",
   "version": "3.6.4"
  }
 },
 "nbformat": 4,
 "nbformat_minor": 2
}
