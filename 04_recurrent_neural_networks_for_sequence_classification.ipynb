{
 "cells": [
  {
   "cell_type": "markdown",
   "metadata": {},
   "source": [
    "## Recurrent neural networks for sequence classificatioin\n",
    "----\n",
    "\n",
    "In this tutorial, we are going to build a recurrent neural network (RNN) for sequence classification. \n",
    "\n",
    "The goal of the RNN will be to classify the sentiment of a movie review. We will be training this model using the IMDB sentiment analysis dataset ([dataset source](http://ai.stanford.edu/~amaas/data/sentiment/)).\n",
    "\n",
    "To download the dataset, you just have to run the **get_datasets.sh** script in the **datasets** folder, from your terminal. This script will automatically download and extract the zipped file.\n",
    "\n",
    "> **chmod o+x datasets/get_datasets.sh** \n",
    "\n",
    "> **datasets/get_datasets.sh**\n",
    "\n",
    "This dataset comes with 25000 movie reviews for training and 25000 reviews for testing. Let's jump in the data analysis :)!"
   ]
  },
  {
   "cell_type": "markdown",
   "metadata": {},
   "source": [
    "### Import here useful libraries\n",
    "----"
   ]
  },
  {
   "cell_type": "code",
   "execution_count": 1,
   "metadata": {},
   "outputs": [],
   "source": [
    "import pandas as pd\n",
    "import glob"
   ]
  },
  {
   "cell_type": "markdown",
   "metadata": {},
   "source": [
    "### Exploratory data analysis on the IMDB dataset"
   ]
  },
  {
   "cell_type": "code",
   "execution_count": 2,
   "metadata": {},
   "outputs": [],
   "source": [
    "# Get the filenames of the positive/negative reviews we will use for training the RNN\n",
    "train_pos_reviews = glob.glob('datasets/aclImdb/train/pos/*')\n",
    "train_neg_reviews = glob.glob('datasets/aclImdb/train/neg/*')\n",
    "\n",
    "# Concatenate both positive and negative reviews\n",
    "train_reviews = train_pos_reviews + train_neg_reviews\n",
    "\n",
    "# Create target vector. Target 1 is for positive reviews and target 0 is for negative reviews\n",
    "train_targets = [1]*len(train_pos_reviews) + [0]*len(train_neg_reviews)"
   ]
  },
  {
   "cell_type": "code",
   "execution_count": 3,
   "metadata": {},
   "outputs": [
    {
     "name": "stdout",
     "output_type": "stream",
     "text": [
      "Number positive reviews used for training:  12500\n",
      "Number negative reviews used for training:  12500\n"
     ]
    }
   ],
   "source": [
    "print('Number positive reviews used for training: ', len(train_pos_reviews))\n",
    "print('Number negative reviews used for training: ', len(train_neg_reviews))"
   ]
  },
  {
   "cell_type": "code",
   "execution_count": 5,
   "metadata": {},
   "outputs": [],
   "source": [
    "# Initialize empty dataset to store the movie review, the sentiment, as well as its rating\n",
    "train_df = pd.DataFrame([], index=range(len(train_reviews)), columns=['review', 'target', 'score'])\n",
    "\n",
    "# Read each review in part, and store it on our empty dataframe\n",
    "for i, (review_filename, target) in enumerate(zip(train_reviews, train_targets)):\n",
    "    review_file = open(review_filename, 'r') \n",
    "    review = review_file.read()\n",
    "    train_df.loc[i, 'review'] = review\n",
    "    train_df.loc[i, 'target'] = target\n",
    "    train_df.loc[i, 'score'] = review_filename.split('.')[0].split('_')[-1]"
   ]
  },
  {
   "cell_type": "code",
   "execution_count": 9,
   "metadata": {},
   "outputs": [
    {
     "data": {
      "text/html": [
       "<div>\n",
       "<style scoped>\n",
       "    .dataframe tbody tr th:only-of-type {\n",
       "        vertical-align: middle;\n",
       "    }\n",
       "\n",
       "    .dataframe tbody tr th {\n",
       "        vertical-align: top;\n",
       "    }\n",
       "\n",
       "    .dataframe thead th {\n",
       "        text-align: right;\n",
       "    }\n",
       "</style>\n",
       "<table border=\"1\" class=\"dataframe\">\n",
       "  <thead>\n",
       "    <tr style=\"text-align: right;\">\n",
       "      <th></th>\n",
       "      <th>review</th>\n",
       "      <th>target</th>\n",
       "      <th>score</th>\n",
       "    </tr>\n",
       "  </thead>\n",
       "  <tbody>\n",
       "    <tr>\n",
       "      <th>0</th>\n",
       "      <td>This has to be, hands down, hats off, one of t...</td>\n",
       "      <td>1</td>\n",
       "      <td>10</td>\n",
       "    </tr>\n",
       "    <tr>\n",
       "      <th>1</th>\n",
       "      <td>I admit creating great expectations before wat...</td>\n",
       "      <td>1</td>\n",
       "      <td>7</td>\n",
       "    </tr>\n",
       "    <tr>\n",
       "      <th>2</th>\n",
       "      <td>I love this film and it is such a wonderful ex...</td>\n",
       "      <td>1</td>\n",
       "      <td>9</td>\n",
       "    </tr>\n",
       "    <tr>\n",
       "      <th>3</th>\n",
       "      <td>In this 1943 film, Judy Garland is deemed not ...</td>\n",
       "      <td>1</td>\n",
       "      <td>8</td>\n",
       "    </tr>\n",
       "    <tr>\n",
       "      <th>4</th>\n",
       "      <td>In celebration of Earth Day Disney has release...</td>\n",
       "      <td>1</td>\n",
       "      <td>8</td>\n",
       "    </tr>\n",
       "  </tbody>\n",
       "</table>\n",
       "</div>"
      ],
      "text/plain": [
       "                                              review target score\n",
       "0  This has to be, hands down, hats off, one of t...      1    10\n",
       "1  I admit creating great expectations before wat...      1     7\n",
       "2  I love this film and it is such a wonderful ex...      1     9\n",
       "3  In this 1943 film, Judy Garland is deemed not ...      1     8\n",
       "4  In celebration of Earth Day Disney has release...      1     8"
      ]
     },
     "execution_count": 9,
     "metadata": {},
     "output_type": "execute_result"
    }
   ],
   "source": [
    "# Print a few lines\n",
    "train_df.head(5)"
   ]
  },
  {
   "cell_type": "code",
   "execution_count": 13,
   "metadata": {},
   "outputs": [
    {
     "data": {
      "text/plain": [
       "'I love this film and it is such a wonderful example of a family jeopardy, a romantic love story, and a very sad story plot. Everything was just so perfect and excellent about this film. It was such a great mixture of actors and actresses and with some laughs and a lot of cries this film deserves to get plenty of awards. With the mention of beautiful scenario, and although I would relate this film to The Notebook and The Family Stone, it was sort of much more cunning, sad, and brilliant than those films. The Evening tells of a love story between an old woman dreaming back to her younger years, and her two daughters stay by her side while she is not well. The story dating back is so strongly told and wonderful I was sitting on the edge of my seat. You really get to know all the characters and by the end, I was wanting to watch it all over again. This is a amazingly sad and vividly acted and plotted movie that is really one of a kind and should be seen by all for how wonderful it really is. All the performances are astonishing and the film captures your attention from the very beginning and never lets go. I loved it, and am so glad that I watched it for it was truly an astonishing film...'"
      ]
     },
     "execution_count": 13,
     "metadata": {},
     "output_type": "execute_result"
    }
   ],
   "source": [
    "# Read a particular review\n",
    "idx_review = 2 # change here to see a different review\n",
    "train_df.loc[idx_review,'review']"
   ]
  },
  {
   "cell_type": "code",
   "execution_count": null,
   "metadata": {},
   "outputs": [],
   "source": []
  }
 ],
 "metadata": {
  "kernelspec": {
   "display_name": "Python 3",
   "language": "python",
   "name": "python3"
  },
  "language_info": {
   "codemirror_mode": {
    "name": "ipython",
    "version": 3
   },
   "file_extension": ".py",
   "mimetype": "text/x-python",
   "name": "python",
   "nbconvert_exporter": "python",
   "pygments_lexer": "ipython3",
   "version": "3.6.4"
  }
 },
 "nbformat": 4,
 "nbformat_minor": 2
}
