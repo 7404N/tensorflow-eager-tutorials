{
 "cells": [
  {
   "cell_type": "markdown",
   "metadata": {},
   "source": [
    "# Building a Convolutional Neural Network (CNN) for emotion recognition with TensorFlow Eager \n",
    "----\n",
    "\n",
    "One of my favourite parts about deep learning is that I can work on problems where I can test the neural networks on myself. The most entertaining neural network that I've built so far is a CNN for emotion recognition. I've managed to pass my webcam video through the network and got predictions of my emotions ~real-time (using a GTX-1070). Quite addictive hehe :)!\n",
    "\n",
    "### This tutorial consists of the following steps:\n",
    "___\n",
    "* _Download and process the FER2013 dataset available on Kaggle._\n",
    "* _Exploratory data analysis on the entire dataset._\n",
    "* _Split the dataset into a train and dev dataset._\n",
    "* _Normalize images._\n",
    "* _Using the tf.data.Dataset API to iterate through train and dev dataset._\n",
    "* _Creating a class for a CNN in Eager mode._\n",
    "    * _Track layers to save the variables from a previous checkpoint._\n",
    "* _Create a loss function, an optimizer and a function to compute gradients._\n",
    "* _Train the model with gradient descent._\n",
    "    * _Whether from scratch or start with a pre-trained model._\n",
    "* _Visualize the performance during training and compute the accuracy._\n",
    "* _Visualize the CNN attribution on sample images using Integrated Gradients._\n",
    "* _Testing the CNN on new images using OpenCV and the Haar Cascades algorithm._\n",
    "\n",
    "So, if you want to build your own neural network for emotion recognition, using TensorFlow Eager, keep on reading. "
   ]
  },
  {
   "cell_type": "markdown",
   "metadata": {},
   "source": [
    "## Import useful libraries\n",
    "----"
   ]
  },
  {
   "cell_type": "code",
   "execution_count": 2,
   "metadata": {},
   "outputs": [],
   "source": [
    "# Import libraries for data visualization and processing\n",
    "import matplotlib.pyplot as plt\n",
    "import pandas as pd\n",
    "import numpy as np\n",
    "\n",
    "# Import TensorFlow and TensorFlow Eager\n",
    "import tensorflow as tf\n",
    "import tensorflow.contrib.eager as tfe\n",
    "\n",
    "# Make the plots appear inline in the notebook\n",
    "%matplotlib inline"
   ]
  },
  {
   "cell_type": "code",
   "execution_count": 3,
   "metadata": {},
   "outputs": [],
   "source": [
    "# Enable eager mode. Once activated it cannot be reversed! Run just once.\n",
    "tfe.enable_eager_execution()"
   ]
  },
  {
   "cell_type": "markdown",
   "metadata": {
    "collapsed": true
   },
   "source": [
    "## Download dataset \n",
    "----\n",
    "To train our CNN, we will use the FER2013 dataset, available on Kaggle. You have to download the dataset yourself, on their platform, as unfortunately I cannot share the data publicly. Nevertheless, the dataset has only 96.4 MB so you should be able to download it in no time. You can download it [here](https://www.kaggle.com/c/challenges-in-representation-learning-facial-expression-recognition-challenge/data).\n",
    "\n",
    "Once you have downloaded the data, unzip it and place it into a folder called 'data', so you do not have to make any modifications on the code below.\n",
    "\n",
    "Okay, so let's get started with the exploratory data analysis :)!"
   ]
  },
  {
   "cell_type": "markdown",
   "metadata": {},
   "source": [
    "## Exploratory data analysis\n",
    "----\n",
    "Before building any machine learning model, it is recommended to do an exploratory data analysis on your dataset. This gives you the opportunity to find any weaknesses in the dataset like strong imbalance between classes, low quality images etc. \n",
    "\n",
    "I find that most of the bugs that occur in a machine learning project are due to incorrect data processing. It will be much harder to find these errors if you start investigating the dataset only after you find that your model is not working. \n",
    "\n",
    "So, my advice to you is: always analyse the data before building any model :)."
   ]
  },
  {
   "cell_type": "code",
   "execution_count": null,
   "metadata": {},
   "outputs": [],
   "source": [
    "# Read input data. Assuming you've unzipped the dataset and put it into a folder named 'data'\n",
    "path_data = 'data/fer2013/fer2013.csv'\n",
    "data = pd.read_csv(path_data)"
   ]
  },
  {
   "cell_type": "code",
   "execution_count": 4,
   "metadata": {},
   "outputs": [
    {
     "name": "stdout",
     "output_type": "stream",
     "text": [
      "Number of samples in the dataset:  35887\n"
     ]
    }
   ],
   "source": [
    "print('Number of samples in the dataset: ', data.shape[0])"
   ]
  },
  {
   "cell_type": "code",
   "execution_count": 5,
   "metadata": {},
   "outputs": [
    {
     "data": {
      "text/html": [
       "<div>\n",
       "<style scoped>\n",
       "    .dataframe tbody tr th:only-of-type {\n",
       "        vertical-align: middle;\n",
       "    }\n",
       "\n",
       "    .dataframe tbody tr th {\n",
       "        vertical-align: top;\n",
       "    }\n",
       "\n",
       "    .dataframe thead th {\n",
       "        text-align: right;\n",
       "    }\n",
       "</style>\n",
       "<table border=\"1\" class=\"dataframe\">\n",
       "  <thead>\n",
       "    <tr style=\"text-align: right;\">\n",
       "      <th></th>\n",
       "      <th>emotion</th>\n",
       "      <th>pixels</th>\n",
       "      <th>Usage</th>\n",
       "    </tr>\n",
       "  </thead>\n",
       "  <tbody>\n",
       "    <tr>\n",
       "      <th>0</th>\n",
       "      <td>0</td>\n",
       "      <td>70 80 82 72 58 58 60 63 54 58 60 48 89 115 121...</td>\n",
       "      <td>Training</td>\n",
       "    </tr>\n",
       "    <tr>\n",
       "      <th>1</th>\n",
       "      <td>0</td>\n",
       "      <td>151 150 147 155 148 133 111 140 170 174 182 15...</td>\n",
       "      <td>Training</td>\n",
       "    </tr>\n",
       "    <tr>\n",
       "      <th>2</th>\n",
       "      <td>2</td>\n",
       "      <td>231 212 156 164 174 138 161 173 182 200 106 38...</td>\n",
       "      <td>Training</td>\n",
       "    </tr>\n",
       "    <tr>\n",
       "      <th>3</th>\n",
       "      <td>4</td>\n",
       "      <td>24 32 36 30 32 23 19 20 30 41 21 22 32 34 21 1...</td>\n",
       "      <td>Training</td>\n",
       "    </tr>\n",
       "    <tr>\n",
       "      <th>4</th>\n",
       "      <td>6</td>\n",
       "      <td>4 0 0 0 0 0 0 0 0 0 0 0 3 15 23 28 48 50 58 84...</td>\n",
       "      <td>Training</td>\n",
       "    </tr>\n",
       "  </tbody>\n",
       "</table>\n",
       "</div>"
      ],
      "text/plain": [
       "   emotion                                             pixels     Usage\n",
       "0        0  70 80 82 72 58 58 60 63 54 58 60 48 89 115 121...  Training\n",
       "1        0  151 150 147 155 148 133 111 140 170 174 182 15...  Training\n",
       "2        2  231 212 156 164 174 138 161 173 182 200 106 38...  Training\n",
       "3        4  24 32 36 30 32 23 19 20 30 41 21 22 32 34 21 1...  Training\n",
       "4        6  4 0 0 0 0 0 0 0 0 0 0 0 3 15 23 28 48 50 58 84...  Training"
      ]
     },
     "execution_count": 5,
     "metadata": {},
     "output_type": "execute_result"
    }
   ],
   "source": [
    "# See first 5 rows\n",
    "data.head(5)"
   ]
  },
  {
   "cell_type": "code",
   "execution_count": 6,
   "metadata": {
    "scrolled": true
   },
   "outputs": [
    {
     "data": {
      "text/html": [
       "<div>\n",
       "<style scoped>\n",
       "    .dataframe tbody tr th:only-of-type {\n",
       "        vertical-align: middle;\n",
       "    }\n",
       "\n",
       "    .dataframe tbody tr th {\n",
       "        vertical-align: top;\n",
       "    }\n",
       "\n",
       "    .dataframe thead th {\n",
       "        text-align: right;\n",
       "    }\n",
       "</style>\n",
       "<table border=\"1\" class=\"dataframe\">\n",
       "  <thead>\n",
       "    <tr style=\"text-align: right;\">\n",
       "      <th></th>\n",
       "      <th>emotion</th>\n",
       "      <th>number_samples</th>\n",
       "    </tr>\n",
       "  </thead>\n",
       "  <tbody>\n",
       "    <tr>\n",
       "      <th>0</th>\n",
       "      <td>Happy</td>\n",
       "      <td>8989</td>\n",
       "    </tr>\n",
       "    <tr>\n",
       "      <th>1</th>\n",
       "      <td>Neutral</td>\n",
       "      <td>6198</td>\n",
       "    </tr>\n",
       "    <tr>\n",
       "      <th>2</th>\n",
       "      <td>Sad</td>\n",
       "      <td>6077</td>\n",
       "    </tr>\n",
       "    <tr>\n",
       "      <th>3</th>\n",
       "      <td>Fear</td>\n",
       "      <td>5121</td>\n",
       "    </tr>\n",
       "    <tr>\n",
       "      <th>4</th>\n",
       "      <td>Angry</td>\n",
       "      <td>4953</td>\n",
       "    </tr>\n",
       "    <tr>\n",
       "      <th>5</th>\n",
       "      <td>Surprise</td>\n",
       "      <td>4002</td>\n",
       "    </tr>\n",
       "    <tr>\n",
       "      <th>6</th>\n",
       "      <td>Disgust</td>\n",
       "      <td>547</td>\n",
       "    </tr>\n",
       "  </tbody>\n",
       "</table>\n",
       "</div>"
      ],
      "text/plain": [
       "    emotion  number_samples\n",
       "0     Happy            8989\n",
       "1   Neutral            6198\n",
       "2       Sad            6077\n",
       "3      Fear            5121\n",
       "4     Angry            4953\n",
       "5  Surprise            4002\n",
       "6   Disgust             547"
      ]
     },
     "execution_count": 6,
     "metadata": {},
     "output_type": "execute_result"
    }
   ],
   "source": [
    "# Get the meaning of each emotion index\n",
    "emotion_cat = {0:'Angry', 1:'Disgust', 2:'Fear', 3:'Happy', 4:'Sad', 5:'Surprise', 6:'Neutral'}\n",
    "\n",
    "# See the target distribution (check for imbalance)\n",
    "target_counts = data['emotion'].value_counts().reset_index(drop=False)\n",
    "target_counts.columns = ['emotion', 'number_samples']\n",
    "target_counts['emotion'] = target_counts['emotion'].map(emotion_cat)\n",
    "target_counts"
   ]
  },
  {
   "cell_type": "markdown",
   "metadata": {},
   "source": [
    "As you can see, the dataset is quite imbalanced. Especially for the emotion 'Disgust'. This will make the training harder for this class, as the network will have less oportunities to learn the representation of this type of emotion. \n",
    "\n",
    "We will see if this will severely impact the training of our network, a bit later, after we've trained our network.\n",
    "\n",
    "Let's see some images!\n",
    "\n",
    "The images are currenty represented as a string of integers, each integer representing the intensity of one pixel. We will process the string to be represented as a list of integers."
   ]
  },
  {
   "cell_type": "code",
   "execution_count": 7,
   "metadata": {},
   "outputs": [],
   "source": [
    "# Transform images from strings to lists of integers\n",
    "data['pixels'] = data['pixels'].apply(lambda x: [int(pixel) for pixel in x.split()])"
   ]
  },
  {
   "cell_type": "code",
   "execution_count": 8,
   "metadata": {},
   "outputs": [
    {
     "data": {
      "image/png": "[encoded data removed]",
      "text/plain": [
       "<matplotlib.figure.Figure at 0x7f29344670f0>"
      ]
     },
     "metadata": {},
     "output_type": "display_data"
    }
   ],
   "source": [
    "# Change seed here to see other images\n",
    "random_seed = 2\n",
    "\n",
    "# Select randomly 10 images\n",
    "data_sample = data.sample(10, random_state=random_seed)\n",
    "\n",
    "# Create subplots for images\n",
    "f, axarr = plt.subplots(2, 5, figsize=(20, 10))\n",
    "\n",
    "# Plot images\n",
    "i, j = 0, 0\n",
    "for idx, row in data_sample.iterrows():\n",
    "    img = np.array(row['pixels']).reshape(48,48)\n",
    "    axarr[i,j].imshow(img, cmap='gray')\n",
    "    axarr[i,j].set_title(emotion_cat[row['emotion']])\n",
    "    if j==4:\n",
    "        i += 1\n",
    "        j = 0\n",
    "    else:\n",
    "        j += 1"
   ]
  },
  {
   "cell_type": "markdown",
   "metadata": {},
   "source": [
    "## Split  dataset in train/dev datasets and normalize images by max\n",
    "----"
   ]
  },
  {
   "cell_type": "code",
   "execution_count": 9,
   "metadata": {},
   "outputs": [
    {
     "name": "stdout",
     "output_type": "stream",
     "text": [
      "Number samples in the training dataset:  28709\n",
      "Number samples in the development dataset:  7178\n"
     ]
    }
   ],
   "source": [
    "data_train = data[data['Usage']=='Training']\n",
    "size_train = data_train.shape[0]\n",
    "print('Number samples in the training dataset: ', size_train)\n",
    "\n",
    "data_dev = data[data['Usage']!='Training']\n",
    "size_dev = data_dev.shape[0]\n",
    "print('Number samples in the development dataset: ', size_dev)"
   ]
  },
  {
   "cell_type": "code",
   "execution_count": 10,
   "metadata": {},
   "outputs": [],
   "source": [
    "# Retrieve train input and target\n",
    "X_train, y_train = data_train['pixels'].tolist(), data_train['emotion'].as_matrix()\n",
    "# Reshape images to 4D (num_samples, width, height, num_channels)\n",
    "X_train = np.array(X_train, dtype='float32').reshape(-1,48,48,1)\n",
    "# Normalize images with max (the maximum pixel intensity is 255)\n",
    "X_train = X_train/255.0\n",
    "\n",
    "# Retrieve dev input and target\n",
    "X_dev, y_dev = data_dev['pixels'].tolist(), data_dev['emotion'].as_matrix()\n",
    "# Reshape images to 4D (num_samples, width, height, num_channels)\n",
    "X_dev = np.array(X_dev, dtype='float32').reshape(-1,48,48,1)\n",
    "# Normalize images with max\n",
    "X_dev = X_dev/255.0"
   ]
  },
  {
   "cell_type": "markdown",
   "metadata": {},
   "source": [
    "## Using the tf.data.Dataset API\n",
    "----\n",
    "To prepare our dataset to be used as an input to the CNN, we will use the tf.data.Dataset API which will convert the numpy arrays we've just created, to TF tensors. As this dataset is much bigger than the datasets in the previous tutorials, we will actually have to feed the data to the model in batches.\n",
    "\n",
    "Normally, for computational efficiency, you would choose a batch as big as you can fit into memory. However, in my experience, I obtain better results on test data, if I use smaller batches. Feel free to play with the batch size and see if you get to the same conclusion as I did."
   ]
  },
  {
   "cell_type": "code",
   "execution_count": 11,
   "metadata": {},
   "outputs": [],
   "source": [
    "# Feel free to modify the size of the batches\n",
    "batch_size = 64\n",
    "data_train = tf.data.Dataset.from_tensor_slices((X_train, y_train[:,None])).batch(batch_size)\n",
    "data_dev = tf.data.Dataset.from_tensor_slices((X_dev, y_dev[:,None])).batch(batch_size)"
   ]
  },
  {
   "cell_type": "markdown",
   "metadata": {},
   "source": [
    "## Create CNN model in Eager mode\n",
    "----\n",
    "\n",
    "The CNN architecture is created in the cell below. As you can see, the class _EmotionRecognitionCNN_ inherits from _tf.keras.Model_ as we want to track the layers that contain any trainable parameters (e.g. the weights of a convolution, the mean of a batch normalization layer). This makes it extremely easy to save these variables and then restore them at a later time when we want to continue training the network. \n",
    "\n",
    "The original architecture of this CNN can be found [here](https://github.com/oarriaga/face_classification) (built with keras). I thought that it will be really useful if you start with a simpler architecture than ResNet for example. This network turns out to work pretty well for its size. \n",
    "\n",
    "You can play with it, add more layers, increase the number of layers, filters etc. See if you can obtain better results.\n",
    "\n",
    "One thing that is sure, is that the network works better with higher dropout."
   ]
  },
  {
   "cell_type": "code",
   "execution_count": 3,
   "metadata": {},
   "outputs": [],
   "source": [
    "class EmotionRecognitionCNN(tf.keras.Model):\n",
    "    \n",
    "    def __init__(self, num_classes):\n",
    "        ''' Performs lazy layers initialization.\n",
    "            \n",
    "            Args:\n",
    "                num_classes: the number of classes in the output of the network.\n",
    "        ''' \n",
    "        super(EmotionRecognitionCNN, self).__init__()\n",
    "        self.conv1 = tf.layers.Conv2D(16, 5, padding='same', activation=None)\n",
    "        self.batch1 = tf.layers.BatchNormalization()\n",
    "        self.conv2 = tf.layers.Conv2D(16, 5, 2, padding='same', activation=None)\n",
    "        self.batch2 = tf.layers.BatchNormalization()\n",
    "        self.conv3 = tf.layers.Conv2D(32, 5, padding='same', activation=None)\n",
    "        self.batch3 = tf.layers.BatchNormalization()\n",
    "        self.conv4 = tf.layers.Conv2D(32, 5, 2, padding='same', activation=None)\n",
    "        self.batch4 = tf.layers.BatchNormalization()\n",
    "        self.conv5 = tf.layers.Conv2D(64, 3, padding='same', activation=None)\n",
    "        self.batch5 = tf.layers.BatchNormalization()\n",
    "        self.conv6 = tf.layers.Conv2D(64, 3, 2, padding='same', activation=None)\n",
    "        self.batch6 = tf.layers.BatchNormalization()\n",
    "        self.conv7 = tf.layers.Conv2D(64, 1, padding='same', activation=None)\n",
    "        self.batch7 = tf.layers.BatchNormalization()\n",
    "        self.conv8 = tf.layers.Conv2D(128, 3, 2, padding='same', activation=None)\n",
    "        self.batch8 = tf.keras.layers.BatchNormalization()\n",
    "        self.conv9 = tf.layers.Conv2D(256, 1, padding='same', activation=None)\n",
    "        self.batch9 = tf.keras.layers.BatchNormalization()\n",
    "        self.conv10 = tf.layers.Conv2D(128, 3, 2, padding='same', activation=None)\n",
    "        self.conv11 = tf.layers.Conv2D(256, 1, padding='same', activation=None)\n",
    "        self.batch11 = tf.layers.BatchNormalization()\n",
    "        self.conv12 = tf.layers.Conv2D(num_classes, 3, 2, padding='same', activation=None)\n",
    "       \n",
    "    def predict(self, images, training):\n",
    "        \"\"\" Predicts the probability of each class, based on the input sample.\n",
    "            \n",
    "            Args:\n",
    "                images: 4D tensor. Either an image or a batch of images.\n",
    "                training: Boolean. Either the network is predicting in\n",
    "                          training mode or not.\n",
    "        \"\"\"\n",
    "        x = self.conv1(images)\n",
    "        x = self.batch1(x, training=training)\n",
    "        x = self.conv2(x)\n",
    "        x = self.batch2(x, training=training)\n",
    "        x = tf.nn.relu(x)\n",
    "        x = tf.layers.dropout(x, rate=0.4, training=training)\n",
    "        x = self.conv3(x)\n",
    "        x = self.batch3(x, training=training)\n",
    "        x = self.conv4(x)\n",
    "        x = self.batch4(x, training=training)\n",
    "        x = tf.nn.relu(x)\n",
    "        x = tf.layers.dropout(x, rate=0.4, training=training)\n",
    "        x = self.conv5(x)\n",
    "        x = self.batch5(x, training=training)\n",
    "        x = self.conv6(x)\n",
    "        x = self.batch6(x, training=training)\n",
    "        x = tf.nn.relu(x)\n",
    "        x = tf.layers.dropout(x, rate=0.4, training=training)\n",
    "        x = self.conv7(x)\n",
    "        x = self.batch7(x, training=training)\n",
    "        x = self.conv8(x)\n",
    "        x = self.batch8(x, training=training)\n",
    "        x = tf.nn.relu(x)\n",
    "        x = tf.layers.dropout(x, rate=0.4, training=training)\n",
    "        x = self.conv9(x)\n",
    "        x = self.batch9(x, training=training)\n",
    "        x = self.conv10(x)\n",
    "        x = self.conv11(x)\n",
    "        x = self.batch11(x, training=training)\n",
    "        x = self.conv12(x)\n",
    "        return tf.layers.flatten(x)\n",
    "    "
   ]
  },
  {
   "cell_type": "markdown",
   "metadata": {},
   "source": [
    "## Create loss function, optimizer and function to compute gradients\n",
    "----"
   ]
  },
  {
   "cell_type": "code",
   "execution_count": 4,
   "metadata": {},
   "outputs": [],
   "source": [
    "# Define loss function\n",
    "def loss_fn(model, X, y, training=True):\n",
    "    logits = model.predict(X, training)\n",
    "    return tf.losses.sparse_softmax_cross_entropy(y, logits)"
   ]
  },
  {
   "cell_type": "code",
   "execution_count": 5,
   "metadata": {},
   "outputs": [],
   "source": [
    "# Define optimizer.\n",
    "optimizer = tf.train.AdamOptimizer()"
   ]
  },
  {
   "cell_type": "code",
   "execution_count": 6,
   "metadata": {},
   "outputs": [],
   "source": [
    "# Function to compute the gradients of variables with respect to the loss function\n",
    "grads_fn = tfe.implicit_gradients(loss_fn)"
   ]
  },
  {
   "cell_type": "markdown",
   "metadata": {},
   "source": [
    "## Train the model with gradient descent and early stopping\n",
    "----\n",
    "\n",
    "I have saved the variables after training the network for 99 epochs. You can restore them and then fine tune them for a few more epochs. \n",
    "\n",
    "You can use early stopping to stop training the network, if the loss on the dev dataset does not decrease after _n_ epochs (you can set the number of _n_ with the variable _patience_)."
   ]
  },
  {
   "cell_type": "code",
   "execution_count": 7,
   "metadata": {},
   "outputs": [],
   "source": [
    "# Instantiate model. This doesn't initialize the variables yet.\n",
    "model = EmotionRecognitionCNN(num_classes=7)"
   ]
  },
  {
   "cell_type": "code",
   "execution_count": 8,
   "metadata": {},
   "outputs": [],
   "source": [
    "# Specify the path where you want to save the trained variables\n",
    "checkpoint_directory = 'models_checkpoints/EmotionCNN/'"
   ]
  },
  {
   "cell_type": "code",
   "execution_count": 9,
   "metadata": {},
   "outputs": [
    {
     "name": "stdout",
     "output_type": "stream",
     "text": [
      "INFO:tensorflow:Restoring parameters from models_checkpoints/EmotionCNN/-99\n"
     ]
    }
   ],
   "source": [
    "# Train from scratch? If you do not have a GPU on your computer, \n",
    "# I believe it will be better to load the variables that I\n",
    "# have trained for ~99 epochs. \n",
    "# It will be much easier to further tune the model, than starting\n",
    "# training the model from scratch.\n",
    "train_from_scratch = False\n",
    "\n",
    "if train_from_scratch is False:\n",
    "    # Use the GPU if available.\n",
    "    device = 'gpu:0' if tfe.num_gpus()>0 else 'cpu:0'\n",
    "    with tf.device(device):\n",
    "        # Run the model once to initialize variables\n",
    "        dummy_input = tf.constant(tf.zeros((1,48,48,1)))\n",
    "        dummy_pred = model.predict(dummy_input, training=False)\n",
    "        # Restore the variables of the model\n",
    "        saver = tfe.Saver(model.variables)\n",
    "        latest_checkpoint = tf.train.latest_checkpoint(checkpoint_directory)\n",
    "        n_checkpoint = int(latest_checkpoint.split('-')[-1])\n",
    "        saver.restore(latest_checkpoint)"
   ]
  },
  {
   "cell_type": "code",
   "execution_count": null,
   "metadata": {
    "scrolled": true
   },
   "outputs": [],
   "source": [
    "# Patience. How many epochs to wait for the loss on the dev dataset to decrease?\n",
    "patience = 10\n",
    "\n",
    "# Initialize best loss. This variable will store the lowest loss on the\n",
    "# dev dataset\n",
    "best_loss = 999\n",
    "\n",
    "# Initialize classes to update the mean loss of train and dev\n",
    "train_loss = tfe.metrics.Mean('train_loss')\n",
    "dev_loss = tfe.metrics.Mean('dev_loss')\n",
    "\n",
    "# Select here the number of epochs\n",
    "num_epochs = 500\n",
    "\n",
    "# Create dictionary to store training and dev results\n",
    "history = {}\n",
    "history['train_loss'], history['dev_loss'] = [], []\n",
    "\n",
    "if train_from_scratch:\n",
    "    # Use the GPU if available\n",
    "    device = 'gpu:0' if tfe.num_gpus()>0 else 'cpu:0'\n",
    "    # Initialize number of checkpoint to 0\n",
    "    n_checkpoint = 0\n",
    "\n",
    "# Begin training\n",
    "with tf.device(device):\n",
    "    for i in range(num_epochs):\n",
    "        # Train dataset\n",
    "        for X, y in tfe.Iterator(data_train):\n",
    "            # One step of gradient descent\n",
    "            optimizer.apply_gradients(grads_fn(model, X, y))\n",
    "            # Compute loss\n",
    "            batch_loss = loss_fn(model, X, y)\n",
    "            # Update loss\n",
    "            train_loss(batch_loss) \n",
    "        history['train_loss'].append(train_loss.result().numpy())\n",
    "        # Reset metrics\n",
    "        train_loss.init_variables()\n",
    "\n",
    "        # Check dev dataset\n",
    "        for X, y in tfe.Iterator(data_dev):\n",
    "            # Compute loss\n",
    "            batch_loss = loss_fn(model, X, y, training=False)\n",
    "            # Update loss\n",
    "            dev_loss(batch_loss) \n",
    "        history['dev_loss'].append(dev_loss.result().numpy())\n",
    "        # Reset metrics\n",
    "        dev_loss.init_variables()\n",
    "        \n",
    "        # Print train and validation losses \n",
    "        print('Train loss at epoch %d: ' %(i+1), history['train_loss'][-1])\n",
    "        print('Dev loss at epoch %d: ' %(i+1), history['dev_loss'][-1])\n",
    "        \n",
    "        # Check for early stopping\n",
    "        if history['dev_loss'][-1]<best_loss:\n",
    "            best_loss = history['dev_loss'][-1]\n",
    "            count = patience\n",
    "        else:\n",
    "            count -= 1\n",
    "        if count==0:\n",
    "            break\n",
    "\n",
    "    # Save variables at the end of training \n",
    "    tfe.Saver(model.variables).save(checkpoint_directory, global_step=(n_checkpoint + i + 1))"
   ]
  },
  {
   "cell_type": "markdown",
   "metadata": {},
   "source": [
    "## Visualize the performance during training\n",
    "----"
   ]
  },
  {
   "cell_type": "code",
   "execution_count": 32,
   "metadata": {},
   "outputs": [
    {
     "data": {
      "image/png": "[encoded data removed]",
      "text/plain": [
       "<matplotlib.figure.Figure at 0x7f292c101748>"
      ]
     },
     "metadata": {},
     "output_type": "display_data"
    }
   ],
   "source": [
    "plt.plot(range(len(history['train_loss'])), history['train_loss'], color='b', label='Train loss');\n",
    "plt.plot(range(len(history['dev_loss'])), history['dev_loss'], color='r', label='Dev loss');\n",
    "plt.title('Model performance during training', fontsize=15)\n",
    "plt.xlabel('Number of epochs', fontsize=15);\n",
    "plt.ylabel('Loss', fontsize=15);\n",
    "plt.legend(fontsize=15);"
   ]
  },
  {
   "cell_type": "markdown",
   "metadata": {},
   "source": [
    "## Compute accuracy\n",
    "----"
   ]
  },
  {
   "cell_type": "code",
   "execution_count": 33,
   "metadata": {},
   "outputs": [],
   "source": [
    "train_acc = tfe.metrics.Accuracy('train_acc')\n",
    "dev_acc = tfe.metrics.Accuracy('dev_acc')"
   ]
  },
  {
   "cell_type": "code",
   "execution_count": 34,
   "metadata": {},
   "outputs": [
    {
     "name": "stdout",
     "output_type": "stream",
     "text": [
      "Train accuracy:  0.6987007558605315\n",
      "Dev accuracy:  0.5936193925884647\n"
     ]
    }
   ],
   "source": [
    "with tf.device(device):\n",
    "    for X, y in tfe.Iterator(data_train):\n",
    "        # Predict the probabilities of each class\n",
    "        logits = model.predict(X, training=False)\n",
    "        # Select the class with the highest probability\n",
    "        preds = tf.argmax(logits, axis=1)\n",
    "        # Compute the accuracy\n",
    "        train_acc(tf.reshape(y, [-1,]), preds)\n",
    "\n",
    "    for X, y in tfe.Iterator(data_dev):\n",
    "        # Predict the probabilities of each class\n",
    "        logits = model.predict(X, training=False)\n",
    "        # Select the class with the highest probability\n",
    "        preds = tf.argmax(logits, axis=1)\n",
    "        # Compute the accuracy\n",
    "        dev_acc(tf.reshape(y, [-1,]), preds)    \n",
    "\n",
    "print('Train accuracy: ', train_acc.result().numpy())\n",
    "print('Dev accuracy: ', dev_acc.result().numpy())"
   ]
  },
  {
   "cell_type": "markdown",
   "metadata": {},
   "source": [
    "## Visualize neural network attributions with integrated gradients\n",
    "----\n",
    "\n",
    "So now that we have trained our CNN model, let's see if we can understand its reasoning using integrated gradients. This methodology is thoroughly explained in [this paper](https://arxiv.org/abs/1703.01365), called Axiomatic Attribution for Deep Networks.\n",
    "\n",
    "Normally, the first attempt you would do to understand the predictions of your model is to compute directly the derivative of the output class with respect to the image. This can give you a hint on which part of the image activated the network. However, this technique is sensitive to image artifacts.\n",
    "\n",
    "To avoid this pitfall we are going to use integrated gradients to compute the attributions of the network for a certain image. This technique simply takes the original image, scales the pixel intensities to various degrees (from $\\frac{1}{m}$ to m, where m is the number of steps) and computes the gradient with respect to each scaled image. To obtain the attributions, the gradients of all the scaled images are averaged and multiplied with the original image.\n",
    "\n",
    "Here is an example of how you would implement this in TensorFlow Eager:"
   ]
  },
  {
   "cell_type": "code",
   "execution_count": 35,
   "metadata": {},
   "outputs": [],
   "source": [
    "def get_prob_class(X, idx_class):\n",
    "    \"\"\" Gets the softmax probability of the selected class.\n",
    "        \n",
    "        Args:\n",
    "            X: 4D tensor image.\n",
    "            \n",
    "        Returns:\n",
    "            prob_class: the probability of the selected class.  \n",
    "    \"\"\"\n",
    "    logits = model.predict(X, False)\n",
    "    prob_class = logits[0, idx_class]\n",
    "    return prob_class"
   ]
  },
  {
   "cell_type": "code",
   "execution_count": 36,
   "metadata": {},
   "outputs": [],
   "source": [
    "def integrated_gradients(X, m=200):\n",
    "    \"\"\" Computes the integrated gradients for an image sample.\n",
    "        \n",
    "        Args:\n",
    "            X: 4D tensor of the image sample.\n",
    "            m: number of steps, higher steps leads to a better approximation.\n",
    "               \n",
    "        Returns:\n",
    "            g: integrated gradients.\n",
    "    \"\"\"\n",
    "    perc = (np.arange(1,m+1)/m).reshape(m,1,1,1)\n",
    "    perc = tf.constant(perc, dtype=tf.float32)\n",
    "    idx_class = tf.argmax(model.predict(X, False), axis=1).numpy()[0]\n",
    "    X_tiled = tf.tile(X, [m,1,1,1])\n",
    "    X_scaled = tf.multiply(X_tiled, perc)\n",
    "    grad_fn = tfe.gradients_function(get_prob_class, params=[0])\n",
    "    g = grad_fn(X_scaled, idx_class)\n",
    "    g = tf.reduce_mean(g, axis=[1])\n",
    "    g = tf.multiply(X, g)\n",
    "    return g, idx_class"
   ]
  },
  {
   "cell_type": "code",
   "execution_count": 37,
   "metadata": {},
   "outputs": [],
   "source": [
    "def visualize_attributions(X, g, idx_class):\n",
    "    \"\"\" Function to plot the original image along with the CNN attributions using\n",
    "        integrated gradients.\n",
    "        \n",
    "        Args:\n",
    "            X: 4D tensor image.\n",
    "            g: integrated gradients.\n",
    "            idx_class: the index of the predicted label.\n",
    "    \"\"\"\n",
    "    img_attributions = X*tf.abs(g)\n",
    "    f, (ax1, ax2) = plt.subplots(1, 2, sharey=True)\n",
    "    ax1.imshow(X[0,:,:,0], cmap='gray')\n",
    "    ax1.set_title('Predicted emotion: %s' %emotion_cat[idx_class], fontsize=15)\n",
    "    ax2.imshow(img_attributions[0,:,:,0], cmap='gray')\n",
    "    ax2.set_title('Integrated gradients', fontsize=15)\n",
    "    plt.tight_layout()"
   ]
  },
  {
   "cell_type": "code",
   "execution_count": 38,
   "metadata": {},
   "outputs": [
    {
     "data": {
      "image/png": "[encoded data removed]",
      "text/plain": [
       "<matplotlib.figure.Figure at 0x7f292c0d2a90>"
      ]
     },
     "metadata": {},
     "output_type": "display_data"
    }
   ],
   "source": [
    "with tf.device(device):\n",
    "    idx_img = 1600 # modify here to change the image\n",
    "    X = tf.constant(X_train[idx_img,:].reshape(1,48,48,1))\n",
    "    g, idx_class = integrated_gradients(X, m=200)\n",
    "    visualize_attributions(X, g, idx_class)"
   ]
  },
  {
   "cell_type": "markdown",
   "metadata": {},
   "source": [
    "**The brighter parts of the integrated gradients image have the most influence on the predicted label.**"
   ]
  },
  {
   "cell_type": "markdown",
   "metadata": {},
   "source": [
    "## Webcam  testing\n",
    "----\n",
    "\n",
    "Finally, you can test the performance of your CNN on any new set of images or videos. In the cell bellow, I show you how you can use your webcam to capture image frames and make predictions on them.\n",
    "\n",
    "To be able to do this you would have to install the library **opencv-python**. You can easily do this by typing in the terminal:\n",
    "\n",
    "> **pip install opencv-python**\n",
    "\n",
    "As you have seen in the beginning of the notebook, the images in the FER2013 dataset have already the faces cropped. In order to crop the faces in the new images/videos, we will be using the pre-trained Haar-Cascade algorithm, found in the **OpenCV** library.\n",
    "\n",
    "So, let's get started!\n",
    "\n",
    "If you want to run the model on live webcam footage use:\n",
    "> **cap = cv2.VideoCapture(0)**\n",
    "\n",
    "If you have a pre-recorded video you would like to test, you can use:\n",
    "> **cap = cv2.VideoCapture(path_video)**\n",
    "\n",
    "Feel free to try the network on yourself! I guarantee that it's going to be a lot of fun :)."
   ]
  },
  {
   "cell_type": "code",
   "execution_count": 11,
   "metadata": {},
   "outputs": [],
   "source": [
    "# Import OpenCV\n",
    "import cv2\n",
    "\n",
    "# Create font for adding text to images\n",
    "font = cv2.FONT_HERSHEY_SIMPLEX"
   ]
  },
  {
   "cell_type": "code",
   "execution_count": 12,
   "metadata": {},
   "outputs": [],
   "source": [
    "# Import pre-trained Haar-Cascade algorithm for face detection\n",
    "face_cascade = cv2.CascadeClassifier(cv2.data.haarcascades + \"haarcascade_frontalface_default.xml\")"
   ]
  },
  {
   "cell_type": "markdown",
   "metadata": {},
   "source": [
    "The code for webcam capture has been inspired from [this tutorial](https://docs.opencv.org/3.0-beta/doc/py_tutorials/py_gui/py_video_display/py_video_display.html)."
   ]
  },
  {
   "cell_type": "code",
   "execution_count": null,
   "metadata": {},
   "outputs": [],
   "source": [
    "# Open video capture\n",
    "cap = cv2.VideoCapture(0)\n",
    "\n",
    "# Uncomment if you want to save the video along with its predictions\n",
    "# fourcc = cv2.VideoWriter_fourcc(*'mp4v') \n",
    "# out = cv2.VideoWriter('test_cnn.mp4', fourcc, 20.0, (720,480))\n",
    "\n",
    "while(True):\n",
    "    # Capture frame-by-frame\n",
    "    ret, frame = cap.read()\n",
    "   \n",
    "    # Transfrom RGB frame to gray scale\n",
    "    gray = cv2.cvtColor(frame, cv2.COLOR_BGR2GRAY)\n",
    "    \n",
    "    # Detect all the faces in the frame\n",
    "    faces = face_cascade.detectMultiScale(gray, 1.3, 5)\n",
    "    \n",
    "    # Iterate through each face found\n",
    "    for (x,y,w,h) in faces:\n",
    "        # Crop the face from the grayscale frame\n",
    "        face_gray = gray[y:y+h, x:x+w]    \n",
    "        # Resize images to 48x48 pixels\n",
    "        face_res = cv2.resize(face_gray, (48,48)) \n",
    "        face_res = face_res.reshape(1,48,48,1)\n",
    "        # Normalize image by max\n",
    "        face_norm = face_res/255.0\n",
    "        # Forward-pass through the model\n",
    "        with tf.device(device):\n",
    "            X = tf.constant(face_norm)\n",
    "            X = tf.cast(X, tf.float32)\n",
    "            logits = model.predict(X, False)\n",
    "            probs = tf.nn.softmax(logits)\n",
    "            ordered_classes = np.argsort(probs[0])[::-1]\n",
    "            ordered_probs = np.sort(probs[0])[::-1]\n",
    "            k = 0\n",
    "            # Draw the probabilities for each prediction, on the frame\n",
    "            for cl, prob in zip(ordered_classes, ordered_probs):\n",
    "                # Add rectangle with width proportional to its probability\n",
    "                cv2.rectangle(frame, (20,100+k),(20+int(prob*100),130+k),(170,145,82),-1)\n",
    "                # Add the emotion label to the rectangle drawn\n",
    "                cv2.putText(frame,emotion_cat[cl],(20,120+k),font,1,(0,0,0),1,cv2.LINE_AA)\n",
    "                k += 40\n",
    "    \n",
    "    # Uncomment if you wish to write this video to disk\n",
    "    out.write(frame)\n",
    "    \n",
    "    # Display the resulting frame\n",
    "    cv2.imshow('frame',frame)\n",
    "    if cv2.waitKey(1) & 0xFF == ord('q'):\n",
    "        break\n",
    "   "
   ]
  },
  {
   "cell_type": "code",
   "execution_count": 30,
   "metadata": {},
   "outputs": [],
   "source": [
    "# When everything is done, release the capture\n",
    "cap.release()\n",
    "cv2.destroyAllWindows()"
   ]
  },
  {
   "cell_type": "code",
   "execution_count": null,
   "metadata": {},
   "outputs": [],
   "source": []
  }
 ],
 "metadata": {
  "kernelspec": {
   "display_name": "Python 3",
   "language": "python",
   "name": "python3"
  },
  "language_info": {
   "codemirror_mode": {
    "name": "ipython",
    "version": 3
   },
   "file_extension": ".py",
   "mimetype": "text/x-python",
   "name": "python",
   "nbconvert_exporter": "python",
   "pygments_lexer": "ipython3",
   "version": "3.6.4"
  }
 },
 "nbformat": 4,
 "nbformat_minor": 2
}
